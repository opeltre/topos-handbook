{
 "cells": [
  {
   "cell_type": "markdown",
   "metadata": {},
   "source": [
    "# II. Graph convolutional networks\n",
    "\n",
    "In this notebook, we'll show how to build graph convolutional networks (GCNs) \n",
    "using the differential structures exposed by `topos`. "
   ]
  },
  {
   "cell_type": "code",
   "execution_count": 6,
   "metadata": {},
   "outputs": [],
   "source": [
    "import torch\n",
    "import topos\n",
    "import matplotlib.pyplot as plt"
   ]
  },
  {
   "cell_type": "markdown",
   "metadata": {},
   "source": [
    "## 1. Graphs and complexes\n",
    "\n",
    "In the following, we denote by $\\Omega = \\{1, \\dots, N_{\\rm vtx}\\}$ a finite set \n",
    "of vertices. \n",
    "\n",
    "A 1-graph $G$ is usually defined by a set of edges contained in \n",
    "$\\Omega \\times \\Omega$ with set of vertices is $\\Omega$ \n",
    "i.e. the boundary of every edge is a vertex of the graph.\n",
    "This is a particular case of simplicial complex (dimension 1), and the \n",
    "reason why we shall use the `Complex` class. \n",
    "\n",
    "__Definition 1.__\n",
    "A _simplicial complex_ $K \\subset {\\mathcal P}(\\Omega)$ is a collection of regions \n",
    "such that for all $a \\in K$, every $b \\subset a$ is also in $K$.\n",
    "The _dimension_ of $K$ is one plus the maximal size of regions $a \\in K$, also called _faces_ of $K$. \n"
   ]
  },
  {
   "cell_type": "code",
   "execution_count": 7,
   "metadata": {},
   "outputs": [
    {
     "data": {
      "image/png": "[encoded data removed]",
      "text/plain": [
       "<Figure size 432x432 with 1 Axes>"
      ]
     },
     "metadata": {
      "needs_background": "light"
     },
     "output_type": "display_data"
    }
   ],
   "source": [
    "\"\"\" Creation of 1D complexes \"\"\"\n",
    "\n",
    "from topos import Complex\n",
    "\n",
    "#-- Complex constructor: ensure to provide all vertices! --\n",
    "G = Complex([[0, 1, 2], [[0, 1], [0, 2], [1, 2]]])\n",
    "\n",
    "#-- Simplicial closure : subfaces i.e. vertices are computed --\n",
    "G = Complex.simplicial([[0, 1], [0, 2], [1, 2]])\n",
    "\n",
    "fig = topos.io.plot_graph(G, size=(6, 6))"
   ]
  },
  {
   "cell_type": "markdown",
   "metadata": {},
   "source": [
    "The sets of vertices and edges can be accessed by `G[0]` and `G[1]` respectively. They are implemented as `Sheaf` instances, as we shall discuss in the next section.\n",
    "\n",
    "Let us for now briefly review the different `Field` types associated to $G, G_0$ and $G_1$. Fields are scalar valued functions on their domains, i.e. vectors of dimension `field.domain.size`. The type constructor is obtained by wrapping `torch.Tensor` types inside a custom Wrap monad\n",
    "(see [fp.Tens](https://github.com/opeltre/fp/blob/master/fp/instances/tens.py)).\n",
    "Field types will further allow us to define a type for linear maps from $G$-fields to $G'$-fields, etc."
   ]
  },
  {
   "cell_type": "code",
   "execution_count": 8,
   "metadata": {},
   "outputs": [
    {
     "data": {
      "text/plain": [
       "\u001b[35mFunctor : \u001b[39mField"
      ]
     },
     "execution_count": 8,
     "metadata": {},
     "output_type": "execute_result"
    }
   ],
   "source": [
    "\"\"\" Field types \"\"\"\n",
    "\n",
    "from topos import Field\n",
    "\n",
    "assert isinstance(Field(G), type)\n",
    "\n",
    "#----- G.Field(degree=None) ------\n",
    "assert G.Field()  == Field(G)\n",
    "assert G.Field(0) == Field(G[0])\n",
    "assert G.Field(1) == G[1].Field()\n",
    "\n",
    "assert isinstance(G.randn(0), G.Field(0))\n",
    "Field"
   ]
  },
  {
   "cell_type": "markdown",
   "metadata": {},
   "source": [
    "A `Field(G)` instance of particular interest to understand the data structure is `G.range()`: its wrapped vector attribute coincides with `torch.arange(G.size)` and therefore maps every point of the domain to its index in `G`."
   ]
  },
  {
   "cell_type": "code",
   "execution_count": 9,
   "metadata": {},
   "outputs": [
    {
     "data": {
      "text/plain": [
       "\u001b[2mField G : \u001b[22m 0 :  [0] :        0\n",
       "                [1] :        1\n",
       "                [2] :        2\n",
       "               \n",
       "           1 :  [0, 1] :        3\n",
       "                [0, 2] :        4\n",
       "                [1, 2] :        5\n",
       "               \n",
       "          "
      ]
     },
     "execution_count": 9,
     "metadata": {},
     "output_type": "execute_result"
    }
   ],
   "source": [
    "\"\"\" Field creation \"\"\"\n",
    "\n",
    "#-- Index map on G --\n",
    "x = G.range()\n",
    "\n",
    "#-- Index map on G[0]\n",
    "x0 = G.range(0)\n",
    "\n",
    "#-- Index map on G[1]\n",
    "x1 = G[1].range()\n",
    "\n",
    "#-- x = x0 | x1 + G.begin[1] | ... --\n",
    "assert (x0.data == x.data[:G.begin[1]]).prod()\n",
    "assert (x1.data == x.data[G.begin[1]:] - G.begin[1]).prod()\n",
    "x"
   ]
  },
  {
   "cell_type": "markdown",
   "metadata": {},
   "source": [
    "For now fields are only scalar-valued functions on the sets of edges and vertices. It is more interesting to allow for arbitrary numbers of vertex and edge features. This is what we'll introduce in section I.3. \n",
    "\n",
    "Let us first remind elementary notions from differential calculus on simplicial complexes. "
   ]
  },
  {
   "cell_type": "markdown",
   "metadata": {},
   "source": [
    "## 2. Differential Calculus"
   ]
  },
  {
   "cell_type": "markdown",
   "metadata": {},
   "source": [
    "## 3. Functor values"
   ]
  },
  {
   "cell_type": "markdown",
   "metadata": {},
   "source": [
    "There are many possible ways one may assign degrees of freedom to regions. To build vanilla GCNs, we may assume that edges and vertices all have the same degrees of freedom, i.e. fibers $F_i$, $F_j$, $F_{ij}$, ... are all isomorphic \n",
    "to a common finite set $F$."
   ]
  },
  {
   "cell_type": "markdown",
   "metadata": {},
   "source": [
    "To compute the differential $d$ and codifferential $\\delta$ in a functor-valued graph, it is required that:\n",
    "- either edge features $F_{ij}$ can be mapped to vertex features $F_i, F_j$\n",
    "- either vertex features $F_i, F_j$ can be mapped to edge features $F_{ij}$ \n",
    "\n",
    "The `ConstantFunctor` subclass will yield a single object $F$ and identity arrows. \n",
    "It is in practice equivalent to:\n"
   ]
  },
  {
   "cell_type": "code",
   "execution_count": 10,
   "metadata": {},
   "outputs": [],
   "source": [
    "\"\"\" Constant feature spaces \"\"\"\n",
    "\n",
    "def ConstantFunctor(shape):\n",
    "    \"\"\" Single shape interpreted as a finite set + identities \"\"\"        \n",
    "    #----- topos.Functor(obj_map, hom_map)\n",
    "    return topos.Functor(lambda _: shape, lambda _: lambda x: x)"
   ]
  },
  {
   "cell_type": "markdown",
   "metadata": {},
   "source": [
    "The `Complex` constructor accepts an optional `functor` second argument.\n",
    "Note how index ranges have been expanded. "
   ]
  },
  {
   "cell_type": "code",
   "execution_count": 11,
   "metadata": {},
   "outputs": [
    {
     "data": {
      "text/plain": [
       "\u001b[2mField G : \u001b[22m 0 :  [0] :        [0, 1, 2]\n",
       "                [1] :        [3, 4, 5]\n",
       "                [2] :        [6, 7, 8]\n",
       "               \n",
       "           1 :  [0, 1] :        [ 9, 10, 11]\n",
       "                [0, 2] :        [12, 13, 14]\n",
       "                [1, 2] :        [15, 16, 17]\n",
       "               \n",
       "          "
      ]
     },
     "execution_count": 11,
     "metadata": {},
     "output_type": "execute_result"
    }
   ],
   "source": [
    "\"\"\" Functor valued complex \"\"\"\n",
    "\n",
    "F  = ConstantFunctor([3])\n",
    "GF = Complex(G, F)\n",
    "\n",
    "GF.range()"
   ]
  },
  {
   "cell_type": "markdown",
   "metadata": {},
   "source": [
    "With a constant functor, the differential and codifferential will simply add and subtract field components feature-wise, e.g."
   ]
  },
  {
   "cell_type": "code",
   "execution_count": 12,
   "metadata": {},
   "outputs": [
    {
     "data": {
      "text/plain": [
       "\u001b[2mField F(Ω) : \u001b[22m [0, 1] :        [3., 3., 3.]\n",
       "              [0, 2] :        [6., 6., 6.]\n",
       "              [1, 2] :        [3., 3., 3.]\n",
       "             "
      ]
     },
     "execution_count": 12,
     "metadata": {},
     "output_type": "execute_result"
    }
   ],
   "source": [
    "\"\"\" Functor-valued differential \"\"\"\n",
    "\n",
    "GF.diff(0) @ GF.range(0)"
   ]
  },
  {
   "cell_type": "code",
   "execution_count": 13,
   "metadata": {},
   "outputs": [
    {
     "data": {
      "text/plain": [
       "\u001b[2mField F(Ω) : \u001b[22m [0] :        [-2., -2., -2.]\n",
       "              [1] :        [0., 0., 0.]\n",
       "              [2] :        [2., 2., 2.]\n",
       "             "
      ]
     },
     "execution_count": 13,
     "metadata": {},
     "output_type": "execute_result"
    }
   ],
   "source": [
    "\"\"\" Functor-valued codifferential \"\"\"\n",
    "\n",
    "GF.codiff(1) @ GF.ones(1)"
   ]
  },
  {
   "cell_type": "markdown",
   "metadata": {},
   "source": [
    "We are now ready to design convolutional filters on arbitrary graphs \n",
    "by combining local features transformations with powers of the laplacian."
   ]
  },
  {
   "cell_type": "markdown",
   "metadata": {},
   "source": [
    "## 4. Convolutional Filters "
   ]
  },
  {
   "cell_type": "markdown",
   "metadata": {},
   "source": [
    "The graph Laplacian $L$ is obtained by composing the differential and codifferential, i.e. in degree 0 (functions on vertices):\n",
    "$$ L = \\delta \\circ d $$\n",
    "When using a constant functor of dimension $n_F$, and denoting by $n_0$ the number of vertices, the space of $0$-fields is naturally isomorphic to $\\mathbb{R}^{n_F \\times n_0} \\simeq \\mathbb{R}^{n_F} \\otimes \\mathbb{R}^{n_0}$ (note that vertex features are stored contiguously in memory). \n",
    "\n",
    "Therefore we may compose the Laplacian (or powers of the latter) with feature matrices $W \\in \\mathbb{R}^{n_F \\times n_F}$ to yield so-called _graph convolutional filters_:\n",
    "$$ P_{\\bar W}[L] = \\sum_{k=0}^{|\\bar W|} W_k \\otimes L^{k} $$"
   ]
  },
  {
   "cell_type": "markdown",
   "metadata": {},
   "source": [
    "The most natural way to implement this would be via an all-purpose _tensor product_ of operators represented by sparse matrices. \n",
    "\n",
    "However, for illustration purposes we propose the `torch.nn.Module` subclass below, using tensor reshapes in its `forward` method."
   ]
  },
  {
   "cell_type": "code",
   "execution_count": 34,
   "metadata": {},
   "outputs": [],
   "source": [
    "from torch import nn\n",
    "\n",
    "class GCN (nn.Module):\n",
    "    \"\"\" \n",
    "    Convolutional filters with possibly different input and output dims.\n",
    "    \"\"\"\n",
    "    def __init__(self, graph, weights):\n",
    "        \"\"\"\n",
    "        Inputs:\n",
    "            - graph:    scalar valued graph with n0 vertices\n",
    "            - weights:  [deg_w, dim_in, dim_out] tensor\n",
    "\n",
    "        Output:\n",
    "            - [dim_out * n_0, dim_in * n_0] tensor\n",
    "        \"\"\"\n",
    "        super().__init__()\n",
    "        # Polynomial coefficients\n",
    "        self.range        = weights.shape[0]\n",
    "        self.out_features = weights.shape[1]\n",
    "        self.in_features  = weights.shape[2]\n",
    "        self.weights = weights\n",
    "        # Graph Laplacian \n",
    "        self.graph = graph\n",
    "        self.Nvtx = graph.Nvtx\n",
    "        L = graph.codiff(1) @ graph.diff(0)\n",
    "        self.powers_L = [L]\n",
    "        for k in range(self.range - 1):\n",
    "            pow_L = self.powers_L[-1]\n",
    "            self.powers_L.append(pow_L @ L)\n",
    "        self.powers_L = [pow_L.data for pow_L in self.powers_L]\n",
    "    \n",
    "    def forward(self, x):\n",
    "        \"\"\"\n",
    "        Action on a (flattened) [n_batch, Nvtx * in_features] tensor.\n",
    "        \"\"\"\n",
    "        n_batch = x.shape[0]\n",
    "        # Vertex dimension first\n",
    "        x = x.T.reshape([self.Nvtx, self.in_features * n_batch])\n",
    "        Lx = [pow_L @ x for pow_L in self.powers_L]\n",
    "        # Feature dimension first\n",
    "        Lx = [(y.view([self.Nvtx, self.in_features, n_batch])\n",
    "                .transpose(0, 1)\n",
    "                .reshape([self.in_features, self.Nvtx * n_batch]))\\\n",
    "                for y in Lx]\n",
    "        WLx = [W @ y for W, y in zip(self.weights, Lx)]\n",
    "        # Sum monomials \n",
    "        out = torch.stack(WLx).sum([0])\n",
    "        # Output shape\n",
    "        out = (out.view([self.out_features, self.Nvtx, n_batch])\n",
    "                  .transpose(0, 2)\n",
    "                  .reshape([n_batch, self.Nvtx * self.out_features]))\n",
    "        return out                  "
   ]
  },
  {
   "cell_type": "markdown",
   "metadata": {},
   "source": [
    "The above implementation, although not very elegant, shows how `topos` geometric instances can interact with usual `torch` operations and modules.\n",
    "\n",
    "Let's see it in action on our simple example:"
   ]
  },
  {
   "cell_type": "code",
   "execution_count": 38,
   "metadata": {},
   "outputs": [
    {
     "name": "stdout",
     "output_type": "stream",
     "text": [
      "ouput shape: torch.Size([10, 18])\n"
     ]
    },
    {
     "data": {
      "text/plain": [
       "\u001b[2mField F(Ω) : \u001b[22m [0] :        [ -7.1912,  32.8649,  -0.9744, -22.5302,  19.3923, -17.5181]\n",
       "              [1] :        [ 16.2049, -19.4454,  -7.2308,   4.6212, -11.0392,  12.1334]\n",
       "              [2] :        [ -9.0137, -13.4194,   8.2052,  17.9089,  -8.3532,   5.3847]\n",
       "             "
      ]
     },
     "execution_count": 38,
     "metadata": {},
     "output_type": "execute_result"
    }
   ],
   "source": [
    "# range 2, output features 6, input features 3\n",
    "W = torch.randn([2, 6, 3])\n",
    "\n",
    "filter = GCN(G, W)\n",
    "\n",
    "# batched input \n",
    "x = torch.stack([GF.randn(0).data for i in range(10)])\n",
    "y = filter(x)\n",
    "print(f'ouput shape: {y.shape}')\n",
    "\n",
    "# first field instance\n",
    "Gout = Complex(G, ConstantFunctor([6]))\n",
    "y0 = Gout.field(y[0], 0)\n",
    "y0\n"
   ]
  }
 ],
 "metadata": {
  "kernelspec": {
   "display_name": "Python 3.9.9 64-bit ('3.9.9')",
   "language": "python",
   "name": "python3"
  },
  "language_info": {
   "codemirror_mode": {
    "name": "ipython",
    "version": 3
   },
   "file_extension": ".py",
   "mimetype": "text/x-python",
   "name": "python",
   "nbconvert_exporter": "python",
   "pygments_lexer": "ipython3",
   "version": "3.9.9"
  },
  "vscode": {
   "interpreter": {
    "hash": "f0bdf5977b686c3d12f3112e6552d93371cb0590556d2a9649e9eec04590b6d6"
   }
  }
 },
 "nbformat": 4,
 "nbformat_minor": 2
}
