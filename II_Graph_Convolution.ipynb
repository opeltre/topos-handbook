{
 "cells": [
  {
   "cell_type": "markdown",
   "metadata": {},
   "source": [
    "# I. Graph convolutional networks\n",
    "\n",
    "In this notebook, we'll show how to build graph convolutional networks (GCNs) \n",
    "using the differential structures exposed by `topos`. "
   ]
  },
  {
   "cell_type": "code",
   "execution_count": 1,
   "metadata": {},
   "outputs": [],
   "source": [
    "import torch\n",
    "import topos"
   ]
  },
  {
   "cell_type": "markdown",
   "metadata": {},
   "source": [
    "## I.1. Graphs and complexes\n",
    "\n",
    "In the following, we denote by $\\Omega = \\{1, \\dots, N_{\\rm vtx}\\}$ a finite set \n",
    "of vertices. \n",
    "\n",
    "A 1-graph $G$ is usually defined by a set of edges contained in \n",
    "$\\Omega \\times \\Omega$ with set of vertices is $\\Omega$ \n",
    "i.e. the boundary of every edge is a vertex of the graph.\n",
    "This is a particular case of simplicial complex (dimension 1), and the \n",
    "reason why we shall use the `Complex` class. \n",
    "\n",
    "__Definition 1.__\n",
    "A _simplicial complex_ $K \\subset {\\mathcal P}(\\Omega)$ is a collection of regions \n",
    "such that for all $a \\in K$, every $b \\subset a$ is also in $K$.\n",
    "The _dimension_ of $K$ is one plus the maximal size of regions $a \\in K$, also called _faces_ of $K$. \n"
   ]
  },
  {
   "cell_type": "code",
   "execution_count": 2,
   "metadata": {},
   "outputs": [],
   "source": [
    "\"\"\" Creation of 1D complexes \"\"\"\n",
    "\n",
    "from topos import Complex\n",
    "\n",
    "#-- Complex constructor: ensure to provide all vertices! --\n",
    "G = Complex([[0, 1, 2], [[0, 1], [0, 2], [1, 2]]])\n",
    "\n",
    "#-- Simplicial closure : subfaces i.e. vertices are computed --\n",
    "G = Complex.simplicial([[0, 1], [0, 2], [1, 2]])"
   ]
  },
  {
   "cell_type": "markdown",
   "metadata": {},
   "source": [
    "The sets of vertices and edges can be accessed by `G[0]` and `G[1]` respectively. They are implemented as `Sheaf` instances, as we shall discuss in the next section. \n",
    "\n",
    "Let us for now briefly review the different `Field` types associated to $G, G_0$ and $G_1$. Fields are scalar valued functions on their domains, i.e. vectors of dimension `field.domain.size`. The type constructor is obtained by wrapping `torch.Tensor` types inside a custom Wrap monad\n",
    "(see [fp.Tens](https://github.com/opeltre/fp/fp/instances/tens.py)).\n",
    "Field types will further allow us to define a type for linear maps from $G$-fields to $G'$-fields, etc."
   ]
  },
  {
   "cell_type": "code",
   "execution_count": 3,
   "metadata": {},
   "outputs": [
    {
     "data": {
      "text/plain": [
       "\u001b[35mFunctor : \u001b[39mField"
      ]
     },
     "execution_count": 3,
     "metadata": {},
     "output_type": "execute_result"
    }
   ],
   "source": [
    "\"\"\" Field types \"\"\"\n",
    "\n",
    "from topos import Field\n",
    "\n",
    "assert isinstance(Field(G), type)\n",
    "\n",
    "#----- G.Field(degree=None) ------\n",
    "assert G.Field()  == Field(G)\n",
    "assert G.Field(0) == Field(G[0])\n",
    "assert G.Field(1) == G[1].Field()\n",
    "\n",
    "assert isinstance(G.randn(0), G.Field(0))\n",
    "Field"
   ]
  },
  {
   "cell_type": "markdown",
   "metadata": {},
   "source": [
    "A `Field(G)` instance of particular interest to understand the data structure is `G.range()`: its wrapped vector attribute coincides with `torch.arange(G.size)` and therefore maps every point of the domain to its index in `G`."
   ]
  },
  {
   "cell_type": "code",
   "execution_count": 4,
   "metadata": {},
   "outputs": [
    {
     "data": {
      "text/plain": [
       "\u001b[2mField G : \u001b[22m 0 :  [0] :        0\n",
       "                [1] :        1\n",
       "                [2] :        2\n",
       "               \n",
       "           1 :  [0, 1] :        3\n",
       "                [0, 2] :        4\n",
       "                [1, 2] :        5\n",
       "               \n",
       "          "
      ]
     },
     "execution_count": 4,
     "metadata": {},
     "output_type": "execute_result"
    }
   ],
   "source": [
    "\"\"\" Field creation \"\"\"\n",
    "\n",
    "#-- Index map on G --\n",
    "x = G.range()\n",
    "\n",
    "#-- Index map on G[0]\n",
    "x0 = G.range(0)\n",
    "\n",
    "#-- Index map on G[1]\n",
    "x1 = G[1].range()\n",
    "\n",
    "#-- x = x0 | x1 + G.begin[1] | ... --\n",
    "assert (x0.data == x.data[:G.begin[1]]).prod()\n",
    "assert (x1.data == x.data[G.begin[1]:] - G.begin[1]).prod()\n",
    "x"
   ]
  },
  {
   "cell_type": "markdown",
   "metadata": {},
   "source": [
    "For now fields are only scalar-valued functions on the sets of edges and vertices. It is more interesting to allow for arbitrary numbers of vertex and edge features. This is what we'll introduce in section I.3. "
   ]
  },
  {
   "cell_type": "markdown",
   "metadata": {},
   "source": [
    "## I.3. Functor values"
   ]
  },
  {
   "cell_type": "markdown",
   "metadata": {},
   "source": [
    "There are many possible ways one may assign degrees of freedom to regions. To build vanilla GCNs, we may assume that edges and vertices all have the same degrees of freedom, i.e. fibers $F_i$, $F_j$, $F_{ij}$, ... are all isomorphic \n",
    "to a common finite set $F$."
   ]
  },
  {
   "cell_type": "markdown",
   "metadata": {},
   "source": [
    "To compute the differential $d$ and codifferential $\\delta$ in a functor-valued graph, it is required that:\n",
    "- either edge features $F_{ij}$ can be mapped to vertex features $F_i, F_j$\n",
    "- either vertex features $F_i, F_j$ can be mapped to edge features $F_{ij}$ \n",
    "\n",
    "The `ConstantFunctor` subclass will yield a single object $F$ and identity arrows. \n",
    "It is in practice equivalent to:\n"
   ]
  },
  {
   "cell_type": "code",
   "execution_count": 5,
   "metadata": {},
   "outputs": [],
   "source": [
    "\"\"\" Constant feature spaces \"\"\"\n",
    "\n",
    "def ConstantFunctor(shape):\n",
    "    \"\"\" Single shape interpreted as a finite set + identities \"\"\"        \n",
    "    #----- topos.Functor(obj_map, hom_map)\n",
    "    return topos.Functor(lambda _: shape, lambda _: lambda x: x)"
   ]
  },
  {
   "cell_type": "markdown",
   "metadata": {},
   "source": [
    "The `Complex` constructor accepts an optional `functor` second argument.\n",
    "Note how index ranges have been expanded. "
   ]
  },
  {
   "cell_type": "code",
   "execution_count": 6,
   "metadata": {},
   "outputs": [
    {
     "data": {
      "text/plain": [
       "\u001b[2mField G : \u001b[22m 0 :  [0] :        [0, 1, 2]\n",
       "                [1] :        [3, 4, 5]\n",
       "                [2] :        [6, 7, 8]\n",
       "               \n",
       "           1 :  [0, 1] :        [ 9, 10, 11]\n",
       "                [0, 2] :        [12, 13, 14]\n",
       "                [1, 2] :        [15, 16, 17]\n",
       "               \n",
       "          "
      ]
     },
     "execution_count": 6,
     "metadata": {},
     "output_type": "execute_result"
    }
   ],
   "source": [
    "\"\"\" Functor valued complex \"\"\"\n",
    "\n",
    "F  = ConstantFunctor([3])\n",
    "GF = Complex(G, F)\n",
    "\n",
    "GF.range()"
   ]
  },
  {
   "cell_type": "markdown",
   "metadata": {},
   "source": [
    "With a constant functor, the differential and codifferential will simply add and subtract field components feature-wise, e.g."
   ]
  },
  {
   "cell_type": "code",
   "execution_count": 7,
   "metadata": {},
   "outputs": [
    {
     "data": {
      "text/plain": [
       "\u001b[2mField Ω : \u001b[22m [0, 1] :        [3., 3., 3.]\n",
       "           [0, 2] :        [6., 6., 6.]\n",
       "           [1, 2] :        [3., 3., 3.]\n",
       "          "
      ]
     },
     "execution_count": 7,
     "metadata": {},
     "output_type": "execute_result"
    }
   ],
   "source": [
    "\"\"\" Functor-valued differential \"\"\"\n",
    "\n",
    "GF.diff(0) @ GF.range(0)"
   ]
  },
  {
   "cell_type": "code",
   "execution_count": 8,
   "metadata": {},
   "outputs": [
    {
     "data": {
      "text/plain": [
       "\u001b[2mField Ω : \u001b[22m [0] :        [-2., -2., -2.]\n",
       "           [1] :        [0., 0., 0.]\n",
       "           [2] :        [2., 2., 2.]\n",
       "          "
      ]
     },
     "execution_count": 8,
     "metadata": {},
     "output_type": "execute_result"
    }
   ],
   "source": [
    "\"\"\" Functor-valued codifferential \"\"\"\n",
    "\n",
    "GF.codiff(1) @ GF.ones(1)"
   ]
  },
  {
   "cell_type": "code",
   "execution_count": 9,
   "metadata": {},
   "outputs": [
    {
     "name": "stdout",
     "output_type": "stream",
     "text": [
      "Help on method fmap in module topos.base.functor:\n",
      "\n",
      "fmap(f) method of topos.base.functor.Functor instance\n",
      "    Map a pair of indices to coordinates.\n",
      "\n"
     ]
    }
   ],
   "source": [
    "help(F.fmap)"
   ]
  },
  {
   "cell_type": "code",
   "execution_count": null,
   "metadata": {},
   "outputs": [],
   "source": []
  }
 ],
 "metadata": {
  "kernelspec": {
   "display_name": "Python 3 (ipykernel)",
   "language": "python",
   "name": "python3"
  },
  "language_info": {
   "codemirror_mode": {
    "name": "ipython",
    "version": 3
   },
   "file_extension": ".py",
   "mimetype": "text/x-python",
   "name": "python",
   "nbconvert_exporter": "python",
   "pygments_lexer": "ipython3",
   "version": "3.9.9"
  }
 },
 "nbformat": 4,
 "nbformat_minor": 2
}
