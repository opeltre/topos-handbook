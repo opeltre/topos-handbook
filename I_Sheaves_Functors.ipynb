{
 "cells": [
  {
   "cell_type": "markdown",
   "id": "aad6eb0c",
   "metadata": {},
   "source": [
    "# I. Sheaves and Functors\n",
    "\n",
    "## I.1 Categories\n",
    "\n",
    "_Categories_ describe collections of objects equipped with collections \n",
    "of arrows between objects. Axioms furthermore require that \n",
    "a category defines a unit $1_A : A \\to A$ for every object $A$ and \n",
    "a composed arrow $gf : A \\to C$ for any pair of arrows $f : A \\to B$ and\n",
    "$g : B \\to C$. \n",
    "\n",
    "Families of mathematical objects \n",
    "(e.g. sets, groups, vector spaces, topological spaces, manifolds, ...) \n",
    "are for instance always defined \n",
    "along with the admissible transformations between them, \n",
    "i.e. concrete mappings on an object's underlying set that \n",
    "preserve the relevant structure. \n",
    "In such examples, the category is called _concrete_ meaning \n",
    "that it can be embedded inside the category of sets, \n",
    "whose objects are sets and arrows are set mappings. \n"
   ]
  },
  {
   "cell_type": "code",
   "execution_count": null,
   "id": "1a600c08",
   "metadata": {},
   "outputs": [],
   "source": []
  }
 ],
 "metadata": {
  "kernelspec": {
   "display_name": "Python 3 (ipykernel)",
   "language": "python",
   "name": "python3"
  },
  "language_info": {
   "codemirror_mode": {
    "name": "ipython",
    "version": 3
   },
   "file_extension": ".py",
   "mimetype": "text/x-python",
   "name": "python",
   "nbconvert_exporter": "python",
   "pygments_lexer": "ipython3",
   "version": "3.9.9"
  }
 },
 "nbformat": 4,
 "nbformat_minor": 5
}
