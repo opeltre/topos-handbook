{
 "cells": [
  {
   "cell_type": "markdown",
   "id": "aad6eb0c",
   "metadata": {},
   "source": [
    "[topos]: https://github.com/opeltre/topos\n",
    "[fp]: https://github.com/opeltre/fp\n",
    "[torch]: https://pytorch.org\n",
    "\n",
    "# I. Sheaves and Functors\n",
    "\n",
    "The [topos] library relies on category theory abstractions\n",
    "most common in functional languages, \n",
    "although quite absent from the usual python paradigms. \n",
    "\n",
    "As first motivating example, let us mention the category ${\\bf Type}$ \n",
    "implemented by a functional language. \n",
    "Its _objects_ are compiler-compliant types $A$ and its _arrows_ represent typed programs $f : A \\to B$ with input in $A$ and \n",
    "output in $B$.\n",
    "\n",
    "The concepts of categories, functors and natural transformations \n",
    "originating from algebraic topology, it is only natural to \n",
    "follow this ubiquitous line of thought when implementing discrete\n",
    "topological structures.\n",
    "However the python language, although great for its ecosystem, does not lend itself easily to type polymorphism.\n",
    " \n",
    "The [topos] package hence relies on the [fp] package, a small stand-alone \n",
    "consisting mostly of metaclass definitions and providing typed tensors \n",
    "wrapping [torch] instances.\n",
    "It should have landed on your system when [installing topos][topos]. "
   ]
  },
  {
   "cell_type": "code",
   "execution_count": 5,
   "id": "782f7c17",
   "metadata": {},
   "outputs": [],
   "source": [
    "import fp\n",
    "import topos"
   ]
  },
  {
   "cell_type": "markdown",
   "id": "1a600c08",
   "metadata": {},
   "source": [
    "\n",
    "## 1. Categories\n",
    "\n",
    "A category is a collection of objects and a collection of composable arrows between them. \n",
    "\n",
    ">__Definition 1.__\n",
    ">A _category_ $\\bf Cat$ is defined by: \n",
    ">- a set or class of _objects_ ${\\rm Obj}({\\bf Cat})$ \n",
    ">- a set of _arrows_ written ${\\rm Hom}(A, B)$ or ${\\bf Cat}_{A \\to B}$ between\n",
    "> any two objects $A$ and $B$,\n",
    ">- an associative composition defining\n",
    ">$gf : A \\to C$ for all arrows $f : A \\to B$ and $g : B \\to C$,\n",
    ">- a unit arrow $1_A : A \\to A$ satisfying $1_A 1_A = 1_A$ for every object $A$.\n",
    ">  \n",
    "\n",
    "\n",
    "__N.B.__ Associativity demands that $h(gf) = (hg)f$ for any triplet $f, g, h$ of \n",
    "composable arrows. \n",
    "We may drop brackets when performing multiple compositions \n",
    "and simply write $hgf$. \n",
    "\n",
    "The canonical example is the category ${\\bf Set}$ whose objects are sets and \n",
    "arrows $f: A \\to B$ are functions from $A$ to $B$. \n",
    "Families of mathematical objects \n",
    "(e.g. groups, vector spaces, topological spaces, manifolds, ...) \n",
    "are also normally defined \n",
    "along with the admissible transformations between them, \n",
    "i.e. concrete mappings on their underlying sets \n",
    "that preserve a relevant structure. \n",
    "These categories (${\\bf Grp, Vect, Top, Mfd}$, ...) are called _concrete_ \n",
    "to mean that they can be naturally embedded in the category of sets by what\n",
    "we'll call a _forgetful functor_. \n"
   ]
  },
  {
   "cell_type": "markdown",
   "id": "29c6b893",
   "metadata": {},
   "source": [
    "Interestingly, many mathematical objects are also categories themselves, \n",
    "because categories are a basic abstraction for transitivity and associativity. \n",
    "Let us provide a few more examples of interest below.\n",
    "The first one plays a major role in the `topos` library, \n",
    "as topological structures will be understood as partial orders $K$ embedded in the power set \n",
    "${\\mathcal P}(\\Omega) = 2^\\Omega$ of a given set of vertices $\\Omega$.\n",
    "\n",
    "__Example 1.__\n",
    "A partial order $(K, \\leq)$ defines a category ${\\bf K}$ in the following way:\n",
    "- ${\\rm Obj}({\\bf K}) = K$ \n",
    "- ${\\bf K}_{a \\to b} = \\{ \\bullet \\}$ if $a \\leq b$ else $\\varnothing$ "
   ]
  },
  {
   "cell_type": "markdown",
   "id": "c3a5fd44",
   "metadata": {},
   "source": [
    "In the notation above, $\\{\\bullet\\}$ defines any _point_ i.e. set of one element.\n",
    "In other words, we may identify $K$ with the set of objects and relations $a \\leq b$ with \n",
    "the unique arrow $a \\to b$ living in ${\\bf K}_{a \\to b}$, whenever it is non-empty.\n",
    "The composition axiom expresses _transitivity_ i.e. \n",
    "$a \\leq b$ and $b \\leq c$ implies $a \\leq c$. The unit axiom expresses _reflexivity_ i.e. \n",
    "$a \\leq a$ for all $a$."
   ]
  },
  {
   "cell_type": "markdown",
   "id": "091f9228",
   "metadata": {},
   "source": [
    "__Example 2.__ A group $G$ defines a category ${\\bf G}$ in the following way:\n",
    "- ${\\rm Obj}({\\bf G}) = \\{ \\bullet \\}$\n",
    "- ${\\bf G_{\\bullet \\to \\bullet}} = G$\n",
    "- composition in ${\\bf G}_{\\bullet \\to \\bullet}$ is the composition of $G$,\n",
    "- the unit $1_\\bullet$ is the unit of $G$.\n",
    "\n",
    "Note that all elements of $G$ are composable because they have the same source and target $\\bullet$. The structure above is exactly that of a _monoid_, \n",
    "i.e. sets equipped with an associative composition: \n",
    "one should only demand that every arrow of ${\\bf G}_{\\bullet \\to \\bullet}$ \n",
    "be inversible to define groups as those special categories above a single object.\n",
    "\n",
    "The list of examples could be very long...\n",
    "They'll become more interesting with the notion of functors, \n",
    "describing relationships _between_ categories, which we introduce below. \n",
    "\n",
    "Let us first quickly show how \"arrows\" i.e. functions are handled within\n",
    "[fp](https://github.com/opeltre/fp). Notice how `Arrow(a, b)` provides \n",
    "quite more than type decoration, by implementing e.g. composition and [curryfication].\n",
    "\n",
    "[curryfication]: https://fr.wikipedia.org/wiki/Curryfication"
   ]
  },
  {
   "cell_type": "code",
   "execution_count": 6,
   "id": "3510a0cb",
   "metadata": {},
   "outputs": [
    {
     "name": "stdout",
     "output_type": "stream",
     "text": [
      "'|||||||||||||'\n"
     ]
    },
    {
     "data": {
      "text/plain": [
       "\u001b[2mInt -> Int : \u001b[22madd 2"
      ]
     },
     "execution_count": 6,
     "metadata": {},
     "output_type": "execute_result"
    }
   ],
   "source": [
    "\"\"\" Arrows \"\"\"\n",
    "\n",
    "from fp import Arrow, Str, Int\n",
    "\n",
    "#-- Arrow is a binary type constructor --\n",
    "assert isinstance(Arrow(Int, Int), type)\n",
    "\n",
    "#-- Arrow creation --\n",
    "\n",
    "foo = Arrow(Str, Int)(len)\n",
    "\n",
    "@Arrow(Int, Str)\n",
    "def bar(x):\n",
    "    return '|' * x\n",
    "\n",
    "#-- Arrow composition -- \n",
    "assert isinstance(foo @ bar, Arrow(Int, Int))\n",
    "assert isinstance(bar @ foo, Arrow(Str, Str))\n",
    "\n",
    "print(bar @ foo @ 'hellow world!')\n",
    "\n",
    "#-- Arrow curryfication\n",
    "@Arrow((Int, Int), Int)\n",
    "def add(x, y): return x + y\n",
    "\n",
    "assert isinstance(add(2), Arrow(Int, Int))\n",
    "assert add(2)(6) == add(2, 6)\n",
    "add(2)\n"
   ]
  },
  {
   "cell_type": "markdown",
   "id": "a34cecc6",
   "metadata": {},
   "source": [
    "## 2. Functors"
   ]
  },
  {
   "cell_type": "markdown",
   "id": "1b093303",
   "metadata": {},
   "source": [
    "Functors map source categories to target categories by acting on both objects and arrows.\n",
    "\n",
    ">__Definition 2.__\n",
    ">A functor $F : {\\bf C} \\to {\\bf C'}$ is defined by:\n",
    ">- an object $F_a$ of ${\\bf C'}$ for every object $a$ of ${\\bf C}$,\n",
    ">- an arrow $F_{a \\to b} : F_a \\to F_b$ of ${\\bf C'}$ for every arrow $a \\to b$ in ${\\bf C}$\n",
    ">\n",
    ">such that $F_g F_h = F_{gh}$ for all $h \\in {\\bf C}_{a \\to b}$\n",
    ">and $g \\in {\\bf C}_{b \\to c}$.\n",
    "\n",
    "If $(K, \\leq)$ and $(K', \\leq)$ are two partial orders as in example 1, then \n",
    "a functor from ${\\bf K}$ to ${\\bf K'}$ is an order-preserving \n",
    "set map from $K$ to $K'$.\n",
    "Such maps define the arrows or _morphisms_ of the category of partial orders ${\\bf Ord}$.\n",
    "\n",
    "If $G$ and $G'$ are two groups as in example 2, then \n",
    "a functor from ${\\bf G}$ to ${\\bf G'}$ is a group morphism from $G$ to $G'$. \n",
    "Such maps define the arrows of the category of groups ${\\bf Grp}$.\n",
    "\n",
    "Before giving other examples, let us introduce notion of opposite or _dual_ category, \n",
    "usefull for describing functors that reverse the direction of arrows.\n",
    "\n",
    ">__Definition 3.__ \n",
    "> To any category ${\\bf C}$ we associate the dual category ${\\bf C}^{op}$ defined by:\n",
    "> - ${\\rm Obj}({\\bf C}^{op}) = {\\rm Obj}({\\bf C})$\n",
    "> - ${\\bf C}^{op}_{b \\to a} \\simeq {\\bf C}_{a \\to b}$ through a 1-1 correspondence written \n",
    "> $f^{op} \\leftrightarrow f$\n",
    "> - $f^{op} g^{op} = (gf)^{op}$ for every $f \\in {\\bf C}_{a \\to b}$ and \n",
    "$g \\in {\\bf C}_{a \\to b}$,\n",
    "> - $1_a^{op} = 1_a$ for every object $a$ of ${\\bf C}$ and ${\\bf C}^{op}$.\n",
    ">\n",
    "> A _contravariant_ functor from ${\\bf C}$ to ${\\bf C'}$ is a functor \n",
    "> $F : {\\bf C}^{op} \\to {\\bf C'}$.\n",
    "\n",
    "A contravariant functor $F : {\\bf C}^{op} \\to {\\bf C'}$ \n",
    "simply maps an arrow $a \\to b$ of ${\\bf C}$ \n",
    "to a reversed arrow $F_{b \\to a}$ of ${\\bf C'}$. "
   ]
  },
  {
   "cell_type": "markdown",
   "id": "d3aca90e",
   "metadata": {},
   "source": [
    "__Example 4.__\n",
    "The functor of real valued functions \n",
    "$(\\:\\cdot \\to {\\mathbb R}) : {\\bf Set}^{op} \\to {\\bf Alg}_c$, contravariant from ${\\bf Set}$ to \n",
    "the category of commutative $\\mathbb R$-algebras ${\\bf Alg}_c$, is defined by:\n",
    "- $\\mathbb{R}^A = A \\to \\mathbb{R}$ is the algebra of functions on $A$,\n",
    "- $f^* = ((A \\overset{f}{\\to} B) \\to \\mathbb{R})$ is the _pullback by_ $f$, also called \n",
    "precomposition $f^* : g \\mapsto gf$.\n",
    "\n",
    "Note that one may decline the above in many different flavours, e.g. \n",
    "- $C(\\:\\cdot\\:): {\\bf Top}^{op} \\to {\\bf Alg}_c$ restricted to topological spaces and continuous morphisms, \n",
    "- $C^\\infty(\\:\\cdot\\:) : {\\bf Mfd}^{op} \\to {\\bf Alg}_c$ restricted to smooth manifolds and \n",
    "infinitely differentiable maps,\n",
    "- ...\n",
    "\n",
    "Example 4 will be of central interest to us, at it is the relevant abstraction for \n",
    "assigning a vector space (and algebra) to any finite set, and a linear map (and algebra morphism) to any index mapping. We shall get a reversed linear map by transposition (__not__ an algebra morphism), called _pushforward_, and corresponding to the direct image of measures (integration on fibers). \n",
    "\n"
   ]
  },
  {
   "cell_type": "markdown",
   "id": "48bc2fdb",
   "metadata": {},
   "source": [
    "Before coming to its implementation, let's briefly describe functors from the programmatic point of view. In python we'll write `F(a)` for an image object and `F.fmap(f)` for an image arrow.\n",
    "This follows the naming conventions of functional languages, where a functor \n",
    "$F : {\\bf Type} \\to {\\bf Type}$ is usually presented as\n",
    "- a type `F a` for every input type `a`\n",
    "- a function `F.fmap : (a -> b) -> F a -> F b`"
   ]
  },
  {
   "cell_type": "markdown",
   "id": "01ef6627",
   "metadata": {},
   "source": [
    "Here is the simplest example of functor encountered in programming:"
   ]
  },
  {
   "cell_type": "markdown",
   "id": "ef98691e",
   "metadata": {},
   "source": [
    "__Example 5.__\n",
    "The `List` functor, also written `[.]` , is defined by:\n",
    "- `List a = [a]` is the type of lists containing elements of type `a`,\n",
    "- `List.fmap(f)` returns the list of element images by iterating over the input list. "
   ]
  },
  {
   "cell_type": "markdown",
   "id": "20092a5c",
   "metadata": {},
   "source": [
    "Here is an example of how this is emulated within python in the\n",
    "[fp](https://github.com/opeltre/fp) package:"
   ]
  },
  {
   "cell_type": "code",
   "execution_count": 7,
   "id": "992c00cf",
   "metadata": {},
   "outputs": [
    {
     "name": "stdout",
     "output_type": "stream",
     "text": [
      "List Str -> List Int : map len\n",
      "List Int : [8, 9, 7]\n"
     ]
    }
   ],
   "source": [
    "\"\"\" List functor \"\"\"\n",
    "\n",
    "from fp import List\n",
    "\n",
    "x = [\"tomatoes\", \"eggplants\", \"zukinis\"]\n",
    "y = List.fmap(foo)(x)\n",
    "\n",
    "assert type(List.fmap(foo)) == Arrow(List(Str), List(Int))\n",
    "print(repr(List.fmap(foo)))\n",
    "print(repr(y))"
   ]
  },
  {
   "cell_type": "markdown",
   "id": "7e9eb1d4",
   "metadata": {},
   "source": [
    "Let's now come to the tensor types \n",
    "returned by the `Tens` functor.\n",
    "They all subclass a common `Tensor` type wrapping \n",
    "`torch.Tensor` instances (have a look at [fp/instances/tens.py] \n",
    "for more details on how this is done using a custom `Wrap` monad on algebraic types). \n",
    "\n",
    "The `Tens` functor is a particular case of \n",
    "$(\\:\\cdot \\to \\mathbb{R}) : {\\bf Set}^{op} \\to {\\bf Alg}_c$ \n",
    "from example 4, \n",
    "only it is restricted to finite domains, each viewed as discrete torus\n",
    "$\\mathbb{T}_n = \\prod_i \\mathbb{Z} / n_i \\mathbb{Z}$ for some shape vector $n = (n_1, \\dots, n_d)$.\n",
    "\n",
    "[fp/instances/tens.py]: https://github.com/opeltre/fp/instances/tens.py"
   ]
  },
  {
   "cell_type": "code",
   "execution_count": 50,
   "id": "80ccabff",
   "metadata": {},
   "outputs": [
    {
     "data": {
      "text/plain": [
       "\u001b[35mRing : \u001b[39mTorus 3x3"
      ]
     },
     "execution_count": 50,
     "metadata": {},
     "output_type": "execute_result"
    }
   ],
   "source": [
    "\"\"\" Tens functor \"\"\"\n",
    "\n",
    "from fp import Tens\n",
    "import torch\n",
    "\n",
    "# Tensor types \n",
    "E = Tens([3, 3])\n",
    "F = Tens([6, 6])\n",
    "\n",
    "assert isinstance(E, type)\n",
    "\n",
    "# Instance creation\n",
    "x = E.ones()\n",
    "assert isinstance(x, E)\n",
    "assert isinstance(x.data, torch.Tensor)\n",
    "assert x.domain == E.domain\n",
    "E.domain"
   ]
  },
  {
   "cell_type": "markdown",
   "id": "ffbad01d",
   "metadata": {},
   "source": [
    "The pullback of any index map $f : T \\to T'$ is defined by $f^*y[i] = y[f(i)]$. \n",
    "\n",
    "As a linear map, it has a unique adjoint $f_*$ called _pushforward_ satisfying: \n",
    "\n",
    "$$\\langle x, f^*y \\rangle = \\langle f_* x, y \\rangle$$\n",
    "\n",
    "Because $f^*$ and $f_*$ have opposite directions, we may express this \n",
    "through a very common contravariant functor, \n",
    "implemented as simple matrix transposition.\n",
    "\n",
    "__Example 6.__\n",
    "The _linear dual_ functor $L(\\:\\cdot\\:) : {\\bf Vect}^{op} \\to {\\bf Vect}$ \n",
    "is defined by: \n",
    "- $L(E) = E^*$ is the vector space of linear forms on $E$, \n",
    "- $L(f) = F^* \\to E^*$ is the linear adjoint of $f : E \\to F$, also denoted by $f^*$.\n",
    "\n",
    "__N.B.__ The notation $f^*$ might be ambiguous, but it is usually chosen for _contravariant_ functors only e.g. a pullback or a linear adjoint. \n",
    "The notation $f_*$ is reserved for _covariant_ functors instead \n",
    "e.g. the linear adjoint of a pullback, which in our case could have been written \n",
    "$(f^*)^*$. \n",
    "\n",
    "Let us illustrate this first with an injective $f : \\mathbb{T}_{3,3} \\to \\mathbb{T}_{6, 6}$:"
   ]
  },
  {
   "cell_type": "code",
   "execution_count": 52,
   "id": "a2dce3d5",
   "metadata": {},
   "outputs": [
    {
     "name": "stdout",
     "output_type": "stream",
     "text": [
      "Torus 3x3 -> Torus 6x6 : f\n",
      "\n",
      "pullback : x[i] = y[f(i)]\n",
      "Tens 3x3 : [[ 0., 19.,  2.],\n",
      "            [ 8., 27., 10.],\n",
      "            [16., 35., 12.]]\n",
      "\n",
      "pushforward : y[j] = sum(x[i] | f(i) == j)\n",
      "Tens 6x6 : [[1., 0., 1., 0., 0., 0.],\n",
      "            [0., 0., 1., 0., 1., 0.],\n",
      "            [1., 0., 0., 0., 1., 0.],\n",
      "            [0., 1., 0., 0., 0., 0.],\n",
      "            [0., 0., 0., 1., 0., 0.],\n",
      "            [0., 0., 0., 0., 0., 1.]]\n"
     ]
    }
   ],
   "source": [
    "\"\"\" Linear maps associated to an injection \"\"\"\n",
    "\n",
    "@Arrow(E.domain, F.domain)\n",
    "def f(x):\n",
    "    x0, x1 = x.data.select(-1, 0), x.data.select(-1, 1)\n",
    "    return torch.stack([(x0 + 3 * x1) % 6, (x1 + 2*x0)%6], dim=-1)\n",
    "print(f)\n",
    "\n",
    "#-- pullback : F -> E\n",
    "pull_f = Tens.cofmap(f)\n",
    "print(\"\\npullback : x[i] = y[f(i)]\")\n",
    "print(pull_f @ F.range()) \n",
    "\n",
    "#-- pushforward : E -> F\n",
    "push_f = pull_f.t()\n",
    "print(\"\\npushforward : y[j] = sum(x[i] | f(i) == j)\")\n",
    "print(push_f @ E.ones())"
   ]
  },
  {
   "cell_type": "markdown",
   "id": "c64f468d",
   "metadata": {},
   "source": [
    "As one can see, the algebra morphism\n",
    "$f^* : \\mathbb{R}^{6 \\times 6} \\to \\mathbb{R}^{3 \\times 3}$ \n",
    "is the surjective restriction to the image of $f$. Its adjoint map \n",
    "$f_* : \\mathbb{R}^{3 \\times 3} \\to \\mathbb{R}^{6 \\times 6}$ is the injective extension by zeros outside the image of $f$. \n",
    "\n",
    "Note how the situation is different for a surjection \n",
    "$g : \\mathbb{T}_{6, 6} \\to \\mathbb{T}_{3, 3}$:"
   ]
  },
  {
   "cell_type": "code",
   "execution_count": 53,
   "id": "15338f3c",
   "metadata": {},
   "outputs": [
    {
     "name": "stdout",
     "output_type": "stream",
     "text": [
      "Torus 6x6 -> Torus 3x3 : g\n",
      "\n",
      "pullback : y[j] = x[g(j)]\n",
      "Tens 6x6 : [[0., 1., 2., 0., 1., 2.],\n",
      "            [4., 5., 3., 4., 5., 3.],\n",
      "            [6., 7., 8., 6., 7., 8.],\n",
      "            [1., 2., 0., 1., 2., 0.],\n",
      "            [3., 4., 5., 3., 4., 5.],\n",
      "            [7., 8., 6., 7., 8., 6.]]\n",
      "\n",
      "pushforward : x[i] = sum(y[j] | g(j) == i)\n",
      "Tens 3x3 : [[4., 4., 4.],\n",
      "            [4., 4., 4.],\n",
      "            [4., 4., 4.]]\n"
     ]
    }
   ],
   "source": [
    "\"\"\" Linear maps associated to a surjection \"\"\"\n",
    "\n",
    "@Arrow(F.domain, E.domain)\n",
    "def g(y):\n",
    "    y0, y1 = y.data.select(-1, 0), y.data.select(-1, 1)\n",
    "    return torch.stack([y0 % 3, (y0 % 2 + y1)% 3 ], dim=-1)\n",
    "print(g)\n",
    "\n",
    "#-- pullback : E -> F\n",
    "pull_g = Tens.cofmap(g)\n",
    "print(\"\\npullback : y[j] = x[g(j)]\")\n",
    "print(pull_g @ E.range()) \n",
    "\n",
    "#-- pushforward : F -> E\n",
    "push_g = pull_g.t()\n",
    "print(\"\\npushforward : x[i] = sum(y[j] | g(j) == i)\")\n",
    "print(push_g @ F.ones())"
   ]
  },
  {
   "cell_type": "markdown",
   "id": "6150e5d8",
   "metadata": {},
   "source": [
    "Here the pullback of $g$ is not surjective for the covering of $\\mathbb{T}_{3, 3}$ by $\\mathbb{T}_{6, 6}$ is 4-fold, and images of $g^*$ are invariant on the fibers of $g$. The pullback $g^*$ consists of the injective extension of real functions on the source to fiber-invariant real functions on the target.\n",
    "\n",
    "On the other hand, the pushforward $g_*$ is not injective as it sums over the fibers of $g$. The image of the unit for instance counts the number of elements in each fiber. It is instead surjective, by surjectivity of $g$,\n",
    "and any target density on \n",
    "$\\mathbb{T}_{3, 3}$ may be obtained by pushforward of a measure on $\\mathbb{T}_{6, 6}$."
   ]
  },
  {
   "cell_type": "markdown",
   "id": "ec745461",
   "metadata": {},
   "source": [
    "With these canonical examples in mind, we are now ready to briefly \n",
    "introduce _sheaves_. \n",
    "They are a particular case of functors, \n",
    "which we'll use to describe\n",
    "dictionnaries of tensors `x` such that every `x[a]` \n",
    "has a prescribed shape `F(a)`. \n"
   ]
  },
  {
   "cell_type": "markdown",
   "id": "40d1ce72",
   "metadata": {},
   "source": [
    "## 3. Sheaves"
   ]
  },
  {
   "cell_type": "markdown",
   "id": "b80b3bd5",
   "metadata": {},
   "source": []
  }
 ],
 "metadata": {
  "kernelspec": {
   "display_name": "Python 3.9.9 64-bit ('3.9.9')",
   "language": "python",
   "name": "python3"
  },
  "language_info": {
   "codemirror_mode": {
    "name": "ipython",
    "version": 3
   },
   "file_extension": ".py",
   "mimetype": "text/x-python",
   "name": "python",
   "nbconvert_exporter": "python",
   "pygments_lexer": "ipython3",
   "version": "3.9.9"
  },
  "vscode": {
   "interpreter": {
    "hash": "f0bdf5977b686c3d12f3112e6552d93371cb0590556d2a9649e9eec04590b6d6"
   }
  }
 },
 "nbformat": 4,
 "nbformat_minor": 5
}
