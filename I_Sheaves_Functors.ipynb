{
 "cells": [
  {
   "cell_type": "markdown",
   "id": "aad6eb0c",
   "metadata": {},
   "source": [
    "[topos]: https://github.com/opeltre/topos\n",
    "[fp]: https://github.com/opeltre/fp\n",
    "[torch]: https://pytorch.org\n",
    "\n",
    "# I. Sheaves and Functors\n",
    "\n",
    "The [topos] library relies on category theory abstractions\n",
    "most common in functional languages, \n",
    "although quite absent from the usual python paradigms. \n",
    "\n",
    "As first motivating example, let us mention the category ${\\bf Type}$ \n",
    "implemented by a functional language. \n",
    "Its _objects_ are constructible variable types $A$  \n",
    "and its _arrows_ represent typed programs $f : A \\to B$ with input in $A$ and \n",
    "output in $B$, constructible here meaning accepted by the language compiler.\n",
    "\n",
    "The concepts of categories, functors and natural transformations \n",
    "having originated from algebraic topology, it is only natural to \n",
    "follow this ubiquitous line of thought when implementing discrete\n",
    "topological structures. \n",
    "\n",
    "The python language, although great for its ecosystem, does not lend itself easily to functorial constructs and type polymorphism. \n",
    "The [topos] package hence relies on the [fp] package, a small stand-alone \n",
    "consisting mostly of metaclass definitions and providing typed tensors \n",
    "wrapping [torch] instances. \n"
   ]
  },
  {
   "cell_type": "markdown",
   "id": "1a600c08",
   "metadata": {},
   "source": [
    "\n",
    "## I.1 Categories\n",
    "\n",
    "_Categories_ describe collections of objects equipped with collections \n",
    "of arrows between objects. Axioms furthermore require that \n",
    "a category defines a unit $1_A : A \\to A$ for every object $A$ and \n",
    "a composed arrow $gf : A \\to C$ for any pair of arrows $f : A \\to B$ and\n",
    "$g : B \\to C$. \n",
    "\n",
    "Families of mathematical objects \n",
    "(e.g. sets, groups, vector spaces, topological spaces, manifolds, ...) \n",
    "are for instance always defined \n",
    "along with the admissible transformations between them, \n",
    "i.e. concrete mappings on an object's underlying set that \n",
    "preserve the relevant structure. \n",
    "In such examples, the category is called _concrete_, meaning \n",
    "that it can be embedded inside the category of sets, \n",
    "whose objects are sets and arrows are set mappings. \n"
   ]
  },
  {
   "cell_type": "markdown",
   "id": "29c6b893",
   "metadata": {},
   "source": []
  }
 ],
 "metadata": {
  "kernelspec": {
   "display_name": "Python 3.9.9 64-bit ('3.9.9')",
   "language": "python",
   "name": "python3"
  },
  "language_info": {
   "codemirror_mode": {
    "name": "ipython",
    "version": 3
   },
   "file_extension": ".py",
   "mimetype": "text/x-python",
   "name": "python",
   "nbconvert_exporter": "python",
   "pygments_lexer": "ipython3",
   "version": "3.9.9"
  },
  "vscode": {
   "interpreter": {
    "hash": "f0bdf5977b686c3d12f3112e6552d93371cb0590556d2a9649e9eec04590b6d6"
   }
  }
 },
 "nbformat": 4,
 "nbformat_minor": 5
}
