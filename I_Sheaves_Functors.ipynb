{
 "cells": [
  {
   "cell_type": "markdown",
   "id": "aad6eb0c",
   "metadata": {},
   "source": [
    "[topos]: https://github.com/opeltre/topos\n",
    "[fp]: https://github.com/opeltre/fp\n",
    "[torch]: https://pytorch.org\n",
    "\n",
    "# I. Sheaves and Functors\n",
    "\n",
    "The [topos] library relies on category theory abstractions\n",
    "most common in functional languages, \n",
    "although quite absent from the usual python paradigms. \n",
    "\n",
    "As first motivating example, let us mention the category ${\\bf Type}$ \n",
    "implemented by a functional language. \n",
    "Its _objects_ are compiler-compliant variable types $A$ and its _arrows_ represent typed programs $f : A \\to B$ with input in $A$ and \n",
    "output in $B$.\n",
    "\n",
    "The concepts of categories, functors and natural transformations \n",
    "originating from algebraic topology, it is only natural to \n",
    "follow this ubiquitous line of thought when implementing discrete\n",
    "topological structures.\n",
    "However the python language, although great for its ecosystem, does not lend itself easily to type polymorphism.\n",
    " \n",
    "The [topos] package hence relies on the [fp] package, a small stand-alone \n",
    "consisting mostly of metaclass definitions and providing typed tensors \n",
    "wrapping [torch] instances.\n",
    "It should have landed on your system when [installing topos][topos]. "
   ]
  },
  {
   "cell_type": "code",
   "execution_count": 1,
   "id": "782f7c17",
   "metadata": {},
   "outputs": [],
   "source": [
    "import fp\n",
    "import topos"
   ]
  },
  {
   "cell_type": "markdown",
   "id": "1a600c08",
   "metadata": {},
   "source": [
    "\n",
    "## 1. Categories\n",
    "\n",
    "A category simply consists of a collection of objects and a collection of composable arrows between them. \n",
    "\n",
    ">__Definition 1.__\n",
    ">A _category_ $\\bf Cat$ is defined by: \n",
    ">- a set or class of _objects_ ${\\rm Obj}({\\bf Cat})$ \n",
    ">- a set of _arrows_ written ${\\rm Hom}(A, B)$ or ${\\bf Cat}_{A \\to B}$ between any two objects >$A$ and $B$,\n",
    ">- an associative composition defining\n",
    ">$gf : A \\to C$ for all arrows $f : A \\to B$ and $g : B \\to C$,\n",
    ">- a unit arrow $1_A : A \\to A$ satisfying $1_A 1_A = 1_A$ for every object $A$.\n",
    ">  \n",
    "\n",
    "\n",
    "__N.B.__ Associativity demands that $h(gf) = (hg)f$ for any triplet $f, g, h$ of \n",
    "composable arrows. \n",
    "We may drop brackets when performing multiple compositions \n",
    "and simply write $hgf$. \n",
    "\n",
    "The canonical example is the category ${\\bf Set}$ whose objects are sets and \n",
    "arrows $f: A \\to B$ are functions from $A$ to $B$. \n",
    "Families of mathematical objects \n",
    "(e.g. groups, vector spaces, topological spaces, manifolds, ...) \n",
    "are also normally defined \n",
    "along with the admissible transformations between them, \n",
    "i.e. concrete mappings on their underlying sets \n",
    "that preserve a relevant structure. \n",
    "These categories (${\\bf Grp, Vect, Top, Mfd}$, ...) are called _concrete_ \n",
    "to mean that they can be naturally embedded in the category of sets by what\n",
    "we'll call a _forgetful functor_. \n"
   ]
  },
  {
   "cell_type": "markdown",
   "id": "29c6b893",
   "metadata": {},
   "source": [
    "Interestingly, many mathematical objects are also categories themselves, \n",
    "because categories are a basic abstraction for transitivity and associativity. \n",
    "Let us provide a few more examples of interest below.\n",
    "The first one plays a major role in the `topos` library, \n",
    "as topological structures will be understood as partial orders $K$ embedded in the power set \n",
    "${\\mathcal P}(\\Omega) = 2^\\Omega$ of a given set of vertices $\\Omega$.\n",
    "\n",
    "__Example 1.__\n",
    "A partial order $(K, \\leq)$ defines a category ${\\bf K}$ in the following way:\n",
    "- ${\\rm Obj}({\\bf K}) = K$ \n",
    "- ${\\bf K}_{a \\to b} = \\{ \\bullet \\}$ if $a \\leq b$ else $\\varnothing$ "
   ]
  },
  {
   "cell_type": "markdown",
   "id": "c3a5fd44",
   "metadata": {},
   "source": [
    "In the notation above, $\\{\\bullet\\}$ defines any _point_ i.e. set of one element.\n",
    "In other words, we may identify $K$ with the set of objects and relations $a \\leq b$ with \n",
    "the unique arrow $a \\to b$ living in ${\\bf K}_{a \\to b}$, whenever it is non-empty.\n",
    "The composition axiom expresses _transitivity_ i.e. \n",
    "$a \\leq b$ and $b \\leq c$ implies $a \\leq c$. The unit axiom expresses _reflexivity_ i.e. \n",
    "$a \\leq a$ for all $a$."
   ]
  },
  {
   "cell_type": "markdown",
   "id": "091f9228",
   "metadata": {},
   "source": [
    "__Example 2.__ A group $G$ defines a category ${\\bf G}$ in the following way:\n",
    "- ${\\rm Obj}({\\bf G}) = \\{ \\bullet \\}$\n",
    "- ${\\bf G_{\\bullet \\to \\bullet}} = G$\n",
    "- composition in ${\\bf G}_{\\bullet \\to \\bullet}$ is the composition of $G$,\n",
    "- the unit $1_\\bullet$ is the unit of $G$.\n",
    "\n",
    "Note that all elements of $G$ are composable because they have the same source and target $\\bullet$. The structure above is exactly that of a _monoid_, \n",
    "i.e. sets equipped with an associative composition: \n",
    "one should only demand that every arrow of ${\\bf G}_{\\bullet \\to \\bullet}$ \n",
    "be inversible to define groups as those special categories above a single object.\n",
    "\n",
    "The list of examples could be very long...\n",
    "They'll become more interesting with the notion of functors, \n",
    "describing relationships _between_ categories, which we introduce below. \n",
    "\n",
    "Let us first quickly show how \"arrows\" i.e. functions are handled within\n",
    "[fp](https://github.com/opeltre/fp). Notice how `Arrow(a, b)` provides \n",
    "quite more than type decoration, by implementing e.g. composition and [curryfication].\n",
    "\n",
    "[curryfication]: https://fr.wikipedia.org/wiki/Curryfication"
   ]
  },
  {
   "cell_type": "code",
   "execution_count": 2,
   "id": "3510a0cb",
   "metadata": {},
   "outputs": [
    {
     "name": "stdout",
     "output_type": "stream",
     "text": [
      "'|||||||||||||'\n"
     ]
    },
    {
     "data": {
      "text/plain": [
       "\u001b[2mInt -> Int : \u001b[22madd 2"
      ]
     },
     "execution_count": 2,
     "metadata": {},
     "output_type": "execute_result"
    }
   ],
   "source": [
    "\"\"\" Arrows and composition \"\"\"\n",
    "\n",
    "from fp import Arrow, Str, Int\n",
    "\n",
    "#-- Arrow is a binary type constructor --\n",
    "assert isinstance(Arrow(Int, Int), type)\n",
    "\n",
    "#-- Arrow creation --\n",
    "\n",
    "foo = Arrow(Str, Int)(len)\n",
    "\n",
    "@Arrow(Int, Str)\n",
    "def bar(x):\n",
    "    return '|' * x\n",
    "\n",
    "#-- Arrow composition -- \n",
    "assert isinstance(foo @ bar, Arrow(Int, Int))\n",
    "assert isinstance(bar @ foo, Arrow(Str, Str))\n",
    "\n",
    "print(bar @ foo @ 'hellow world!')\n",
    "\n",
    "#-- Arrow curryfication\n",
    "@Arrow((Int, Int), Int)\n",
    "def add(x, y): return x + y\n",
    "\n",
    "assert isinstance(add(2), Arrow(Int, Int))\n",
    "assert add(2)(6) == add(2, 6)\n",
    "add(2)\n"
   ]
  },
  {
   "cell_type": "markdown",
   "id": "a34cecc6",
   "metadata": {},
   "source": [
    "## 2. Functors"
   ]
  },
  {
   "cell_type": "markdown",
   "id": "1b093303",
   "metadata": {},
   "source": [
    "Functors map source categories to target categories by acting on both objects and arrows.\n",
    "\n",
    ">__Definition 2.__\n",
    ">A functor $F : {\\bf C} \\to {\\bf C'}$ is defined by:\n",
    ">- an object $F_a$ of ${\\bf C'}$ for every object $a$ of ${\\bf C}$,\n",
    ">- an arrow $F_{a \\to b} : F_a \\to F_b$ of ${\\bf C'}$ for every arrow $a \\to b$ in ${\\bf C}$\n",
    ">\n",
    ">such that $F_g F_h = F_{gh}$ for all $h \\in {\\bf C}_{a \\to b}$\n",
    ">and $g \\in {\\bf C}_{b \\to c}$.\n",
    "\n",
    "In python, we'll write `F(a)` for an image object and `F.fmap(f)` for an image arrow.\n",
    "This follows the naming conventions of functional languages, where a functor \n",
    "$F : {\\bf Type} \\to {\\bf Type}$ is usually presented as\n",
    "- a type `F a` for every input type `a`\n",
    "- a function `F.fmap : (a -> b) -> F a -> F b`\n"
   ]
  },
  {
   "cell_type": "markdown",
   "id": "01ef6627",
   "metadata": {},
   "source": [
    "Let's first see the simplest example of functor encountered in programming:"
   ]
  },
  {
   "cell_type": "markdown",
   "id": "ef98691e",
   "metadata": {},
   "source": [
    "__Example 3.__\n",
    "The `List` functor, also written `[.]` , is defined by:\n",
    "- `List a = [a]` is the type of lists containing elements of type `a`,\n",
    "- `List.fmap(f)` returns the list of element images by iterating over the input list. "
   ]
  },
  {
   "cell_type": "markdown",
   "id": "20092a5c",
   "metadata": {},
   "source": [
    "Here is an example of how this is emulated within python in the\n",
    "[fp](https://github.com/opeltre/fp) package:"
   ]
  },
  {
   "cell_type": "code",
   "execution_count": 5,
   "id": "992c00cf",
   "metadata": {},
   "outputs": [
    {
     "name": "stdout",
     "output_type": "stream",
     "text": [
      "List Int : [8, 9, 7]\n"
     ]
    }
   ],
   "source": [
    "\"\"\" List functor \"\"\"\n",
    "\n",
    "from fp import List\n",
    "\n",
    "x = [\"tomatoes\", \"eggplants\", \"zukinis\"]\n",
    "y = List.fmap(foo)(x)\n",
    "print(y)"
   ]
  },
  {
   "cell_type": "code",
   "execution_count": null,
   "id": "7e9eb1d4",
   "metadata": {},
   "outputs": [],
   "source": []
  }
 ],
 "metadata": {
  "kernelspec": {
   "display_name": "Python 3.9.9 64-bit ('3.9.9')",
   "language": "python",
   "name": "python3"
  },
  "language_info": {
   "codemirror_mode": {
    "name": "ipython",
    "version": 3
   },
   "file_extension": ".py",
   "mimetype": "text/x-python",
   "name": "python",
   "nbconvert_exporter": "python",
   "pygments_lexer": "ipython3",
   "version": "3.9.9"
  },
  "vscode": {
   "interpreter": {
    "hash": "f0bdf5977b686c3d12f3112e6552d93371cb0590556d2a9649e9eec04590b6d6"
   }
  }
 },
 "nbformat": 4,
 "nbformat_minor": 5
}
