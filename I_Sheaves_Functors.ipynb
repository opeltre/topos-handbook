{
 "cells": [
  {
   "cell_type": "markdown",
   "id": "aad6eb0c",
   "metadata": {},
   "source": [
    "[topos]: https://github.com/opeltre/topos\n",
    "[fp]: https://github.com/opeltre/fp\n",
    "[torch]: https://pytorch.org\n",
    "\n",
    "# I. Sheaves and Functors\n",
    "\n",
    "The [topos] library relies on category theory abstractions\n",
    "most common in functional languages, \n",
    "although quite absent from the usual python paradigms. \n",
    "\n",
    "As first motivating example, let us mention the category ${\\bf Type}$ \n",
    "implemented by a functional language. \n",
    "Its _objects_ are compiler-compliant variable types $A$ and its _arrows_ represent typed programs $f : A \\to B$ with input in $A$ and \n",
    "output in $B$.\n",
    "\n",
    "The concepts of categories, functors and natural transformations \n",
    "originating from algebraic topology, it is only natural to \n",
    "follow this ubiquitous line of thought when implementing discrete\n",
    "topological structures.\n",
    "However the python language, although great for its ecosystem, does not lend itself easily to type polymorphism.\n",
    " \n",
    "The [topos] package hence relies on the [fp] package, a small stand-alone \n",
    "consisting mostly of metaclass definitions and providing typed tensors \n",
    "wrapping [torch] instances.\n",
    "It should have landed on your system when [installing topos][topos]. "
   ]
  },
  {
   "cell_type": "code",
   "execution_count": 1,
   "id": "782f7c17",
   "metadata": {},
   "outputs": [],
   "source": [
    "import fp\n",
    "import topos"
   ]
  },
  {
   "cell_type": "markdown",
   "id": "1a600c08",
   "metadata": {},
   "source": [
    "\n",
    "## 1. Categories\n",
    "\n",
    "A category simply consists of a collection of objects and a collection of composable arrows between them. \n",
    "\n",
    ">__Definition 1.__\n",
    ">A _category_ $\\bf Cat$ is defined by: \n",
    ">- a set or class of _objects_ ${\\rm Obj}({\\bf Cat})$ \n",
    ">- a set of _arrows_ written ${\\rm Hom}(A, B)$ or ${\\bf Cat}_{A \\to B}$ between any two objects >$A$ and $B$,\n",
    ">- an associative composition defining\n",
    ">$gf : A \\to C$ for all arrows $f : A \\to B$ and $g : B \\to C$,\n",
    ">- a unit arrow $1_A : A \\to A$ satisfying $1_A 1_A = 1_A$ for every object $A$.\n",
    ">  \n",
    "\n",
    "\n",
    "__N.B.__ Associativity demands that $h(gf) = (hg)f$ for any triplet $f, g, h$ of \n",
    "composable arrows. \n",
    "We may drop brackets when performing multiple compositions \n",
    "and simply write $hgf$. \n",
    "\n",
    "The canonical example is the category ${\\bf Set}$ whose objects are sets and \n",
    "arrows $f: A \\to B$ are functions from $A$ to $B$. \n",
    "Families of mathematical objects \n",
    "(e.g. groups, vector spaces, topological spaces, manifolds, ...) \n",
    "are also normally defined \n",
    "along with the admissible transformations between them, \n",
    "i.e. concrete mappings on their underlying sets \n",
    "that preserve a relevant structure. \n",
    "These categories (${\\bf Grp, Vect, Top, Mfd}$, ...) are called _concrete_ \n",
    "to mean that they can be naturally embedded in the category of sets by what\n",
    "we'll call a _forgetful functor_. \n"
   ]
  },
  {
   "cell_type": "markdown",
   "id": "29c6b893",
   "metadata": {},
   "source": [
    "Interestingly, many mathematical objects are also categories themselves, \n",
    "because categories are a basic abstraction for transitivity and associativity. \n",
    "Let us provide a few more examples of interest below.\n",
    "The first one plays a major role in the `topos` library, \n",
    "as topological structures will be understood as partial orders $K$ embedded in the power set \n",
    "${\\mathcal P}(\\Omega) = 2^\\Omega$ of a given set of vertices $\\Omega$.\n",
    "\n",
    "__Example 1.__\n",
    "A partial order $(K, \\leq)$ defines a category ${\\bf K}$ in the following way:\n",
    "- ${\\rm Obj}({\\bf K}) = K$ \n",
    "- ${\\bf K}_{a \\to b} = \\{ \\bullet \\}$ if $a \\leq b$ else $\\varnothing$ "
   ]
  },
  {
   "cell_type": "markdown",
   "id": "c3a5fd44",
   "metadata": {},
   "source": [
    "In the notation above, $\\{\\bullet\\}$ defines any _point_ i.e. set of one element.\n",
    "In other words, we may identify $K$ with the set of objects and relations $a \\leq b$ with \n",
    "the unique arrow $a \\to b$ living in ${\\bf K}_{a \\to b}$, whenever it is non-empty.\n",
    "The composition axiom expresses _transitivity_ i.e. \n",
    "$a \\leq b$ and $b \\leq c$ implies $a \\leq c$. The unit axiom expresses _reflexivity_ i.e. \n",
    "$a \\leq a$ for all $a$."
   ]
  },
  {
   "cell_type": "markdown",
   "id": "091f9228",
   "metadata": {},
   "source": [
    "__Example 2.__ A group $G$ defines a category ${\\bf G}$ in the following way:\n",
    "- ${\\rm Obj}({\\bf G}) = \\{ \\bullet \\}$\n",
    "- ${\\bf G_{\\bullet \\to \\bullet}} = G$\n",
    "- composition in ${\\bf G}_{\\bullet \\to \\bullet}$ is the composition of $G$,\n",
    "- the unit $1_\\bullet$ is the unit of $G$.\n",
    "\n",
    "Note that all elements of $G$ are composable because they have the same source and target $\\bullet$. The structure above is exactly that of a _monoid_, \n",
    "i.e. sets equipped with an associative composition: \n",
    "one should only demand that every arrow of ${\\bf G}_{\\bullet \\to \\bullet}$ \n",
    "be inversible to define groups as those special categories above a single object.\n",
    "\n",
    "The list of examples could be very long...\n",
    "They'll become more interesting with the notion of functors, \n",
    "describing relationships _between_ categories, which we introduce below. \n",
    "\n",
    "Let us first quickly show how \"arrows\" i.e. functions are handled within\n",
    "[fp](https://github.com/opeltre/fp). Notice how `Arrow(a, b)` provides \n",
    "quite more than type decoration, by implementing e.g. composition and [curryfication].\n",
    "\n",
    "[curryfication]: https://fr.wikipedia.org/wiki/Curryfication"
   ]
  },
  {
   "cell_type": "code",
   "execution_count": 2,
   "id": "3510a0cb",
   "metadata": {},
   "outputs": [
    {
     "name": "stdout",
     "output_type": "stream",
     "text": [
      "'|||||||||||||'\n"
     ]
    },
    {
     "data": {
      "text/plain": [
       "\u001b[2mInt -> Int : \u001b[22madd 2"
      ]
     },
     "execution_count": 2,
     "metadata": {},
     "output_type": "execute_result"
    }
   ],
   "source": [
    "\"\"\" Arrows \"\"\"\n",
    "\n",
    "from fp import Arrow, Str, Int\n",
    "\n",
    "#-- Arrow is a binary type constructor --\n",
    "assert isinstance(Arrow(Int, Int), type)\n",
    "\n",
    "#-- Arrow creation --\n",
    "\n",
    "foo = Arrow(Str, Int)(len)\n",
    "\n",
    "@Arrow(Int, Str)\n",
    "def bar(x):\n",
    "    return '|' * x\n",
    "\n",
    "#-- Arrow composition -- \n",
    "assert isinstance(foo @ bar, Arrow(Int, Int))\n",
    "assert isinstance(bar @ foo, Arrow(Str, Str))\n",
    "\n",
    "print(bar @ foo @ 'hellow world!')\n",
    "\n",
    "#-- Arrow curryfication\n",
    "@Arrow((Int, Int), Int)\n",
    "def add(x, y): return x + y\n",
    "\n",
    "assert isinstance(add(2), Arrow(Int, Int))\n",
    "assert add(2)(6) == add(2, 6)\n",
    "add(2)\n"
   ]
  },
  {
   "cell_type": "markdown",
   "id": "a34cecc6",
   "metadata": {},
   "source": [
    "## 2. Functors"
   ]
  },
  {
   "cell_type": "markdown",
   "id": "1b093303",
   "metadata": {},
   "source": [
    "Functors map source categories to target categories by acting on both objects and arrows.\n",
    "\n",
    ">__Definition 2.__\n",
    ">A functor $F : {\\bf C} \\to {\\bf C'}$ is defined by:\n",
    ">- an object $F_a$ of ${\\bf C'}$ for every object $a$ of ${\\bf C}$,\n",
    ">- an arrow $F_{a \\to b} : F_a \\to F_b$ of ${\\bf C'}$ for every arrow $a \\to b$ in ${\\bf C}$\n",
    ">\n",
    ">such that $F_g F_h = F_{gh}$ for all $h \\in {\\bf C}_{a \\to b}$\n",
    ">and $g \\in {\\bf C}_{b \\to c}$.\n",
    "\n",
    "If $(K, \\leq)$ and $(K', \\leq)$ are two partial orders as in example 1, then \n",
    "a functor from ${\\bf K}$ to ${\\bf K'}$ is an order-preserving \n",
    "set map from $K$ to $K'$.\n",
    "Such maps define the arrows or _morphisms_ of the category of partial orders ${\\bf Ord}$.\n",
    "\n",
    "If $G$ and $G'$ are two groups as in example 2, then \n",
    "a functor from ${\\bf G}$ to ${\\bf G'}$ is a group morphism from $G$ to $G'$. \n",
    "Such maps define the arrows of the category of groups ${\\bf Grp}$.\n",
    "\n",
    "Before giving other examples, let us introduce notion of opposite or _dual_ category, \n",
    "usefull for describing functors that reverse the direction of arrows.\n",
    "\n",
    ">__Definition 3.__ \n",
    "> To any category ${\\bf C}$ we associate the dual category ${\\bf C}^{op}$ defined by:\n",
    "> - ${\\rm Obj}({\\bf C}^{op}) = {\\rm Obj}({\\bf C})$\n",
    "> - ${\\bf C}^{op}_{b \\to a} \\simeq {\\bf C}_{a \\to b}$ through a 1-1 correspondence written \n",
    "> $f^{op} \\leftrightarrow f$\n",
    "> - $f^{op} g^{op} = (gf)^{op}$ for every $f \\in {\\bf C}_{a \\to b}$ and \n",
    "$g \\in {\\bf C}_{a \\to b}$,\n",
    "> - $1_a^{op} = 1_a$ for every object $a$ of ${\\bf C}$ and ${\\bf C}^{op}$.\n",
    ">\n",
    "> A _contravariant_ functor from ${\\bf C}$ to ${\\bf C'}$ is a functor \n",
    "> $F : {\\bf C}^{op} \\to {\\bf C'}$.\n",
    "\n",
    "A contravariant functor $F : {\\bf C}^{op} \\to {\\bf C'}$ \n",
    "simply maps an arrow $a \\to b$ of ${\\bf C}$ \n",
    "to a reversed arrow $F_{b \\to a}$ of ${\\bf C'}$. "
   ]
  },
  {
   "cell_type": "markdown",
   "id": "d3aca90e",
   "metadata": {},
   "source": [
    "__Example 4.__\n",
    "The functor of real valued functions \n",
    "$(\\:\\cdot \\to {\\mathbb R}) : {\\bf Set}^{op} \\to {\\bf Alg}_c$, contravariant from ${\\bf Set}$ to \n",
    "the category of commutative $\\mathbb R$-algebras ${\\bf Alg}_c$, is defined by:\n",
    "- $\\mathbb{R}^A = A \\to \\mathbb{R}$ is the algebra of functions on $A$,\n",
    "- $f^* = ((A \\overset{f}{\\to} B) \\to \\mathbb{R})$ is the _pullback by_ $f$, also called \n",
    "precomposition $f^* : g \\mapsto gf$.\n",
    "\n",
    "Note that one may decline the above in many different flavours, e.g. \n",
    "- $C(\\:\\cdot\\:): {\\bf Top}^{op} \\to {\\bf Alg}_c$ restricted to topological spaces and continuous morphisms, \n",
    "- $C^\\infty(\\:\\cdot\\:) : {\\bf Mfd}^{op} \\to {\\bf Alg}_c$ restricted to smooth manifolds and \n",
    "infinitely differentiable maps,\n",
    "- ...\n",
    "\n",
    "Example 4 will be of central interest to us, at it is the relevant abstraction for \n",
    "assigning a vector space (and algebra) to any finite set, and a linear map (and algebra morphism) to any index mapping. We shall get a reversed linear map by transposition (__not__ an algebra morphism), called _pushforward_, and corresponding to the direct image of measures (integration on fibers). \n",
    "\n"
   ]
  },
  {
   "cell_type": "markdown",
   "id": "48bc2fdb",
   "metadata": {},
   "source": [
    "Before coming to its implementation, let's briefly describe functors from the programmatic point of view. In python we'll write `F(a)` for an image object and `F.fmap(f)` for an image arrow.\n",
    "This follows the naming conventions of functional languages, where a functor \n",
    "$F : {\\bf Type} \\to {\\bf Type}$ is usually presented as\n",
    "- a type `F a` for every input type `a`\n",
    "- a function `F.fmap : (a -> b) -> F a -> F b`"
   ]
  },
  {
   "cell_type": "markdown",
   "id": "01ef6627",
   "metadata": {},
   "source": [
    "Here is the simplest example of functor encountered in programming:"
   ]
  },
  {
   "cell_type": "markdown",
   "id": "ef98691e",
   "metadata": {},
   "source": [
    "__Example 3.__\n",
    "The `List` functor, also written `[.]` , is defined by:\n",
    "- `List a = [a]` is the type of lists containing elements of type `a`,\n",
    "- `List.fmap(f)` returns the list of element images by iterating over the input list. "
   ]
  },
  {
   "cell_type": "markdown",
   "id": "20092a5c",
   "metadata": {},
   "source": [
    "Here is an example of how this is emulated within python in the\n",
    "[fp](https://github.com/opeltre/fp) package:"
   ]
  },
  {
   "cell_type": "code",
   "execution_count": 3,
   "id": "992c00cf",
   "metadata": {},
   "outputs": [
    {
     "name": "stdout",
     "output_type": "stream",
     "text": [
      "List Str -> List Int : map len\n",
      "List Int : [8, 9, 7]\n"
     ]
    }
   ],
   "source": [
    "\"\"\" List functor \"\"\"\n",
    "\n",
    "from fp import List\n",
    "\n",
    "x = [\"tomatoes\", \"eggplants\", \"zukinis\"]\n",
    "y = List.fmap(foo)(x)\n",
    "\n",
    "assert type(List.fmap(foo)) == Arrow(List(Str), List(Int))\n",
    "print(repr(List.fmap(foo)))\n",
    "print(repr(y))"
   ]
  },
  {
   "cell_type": "markdown",
   "id": "7e9eb1d4",
   "metadata": {},
   "source": [
    "Let's now come to the tensor types \n",
    "returned by the `Tens` functor.\n",
    "They all subclass a common `Tensor` type wrapping \n",
    "`torch.Tensor` instances (have a look at [fp/instances/tens.py] \n",
    "for more details on how this is done using a custom `Wrap` monad on algebraic types). \n",
    "\n",
    "Note how this is a particular case of example 4., \n",
    "the functor \n",
    "$(\\:\\cdot \\to \\mathbb{R}) : {\\bf Set}^{op} \\to {\\bf Alg}_c$\n",
    "being restricted to finite domains, viewed as a discrete torus \n",
    "$\\prod_{i} \\mathbb{Z} / n_i \\mathbb{Z}$ defined by some shape vector $n$.\n",
    "\n",
    "[fp/instances/tens.py]: https://github.com/opeltre/fp/instances/tens.py"
   ]
  },
  {
   "cell_type": "code",
   "execution_count": 15,
   "id": "80ccabff",
   "metadata": {},
   "outputs": [
    {
     "ename": "TypeError",
     "evalue": "Input of type (Torus 3x3) not castable to Torus 3x3",
     "output_type": "error",
     "traceback": [
      "\u001b[0;31m---------------------------------------------------------------------------\u001b[0m",
      "\u001b[0;31mRecursionError\u001b[0m                            Traceback (most recent call last)",
      "File \u001b[0;32m~/fp/fp/meta/arrow.py:45\u001b[0m, in \u001b[0;36mArrowMeta.source\u001b[0;34m(Arr, xs)\u001b[0m\n\u001b[1;32m     44\u001b[0m \u001b[39mtry\u001b[39;00m:\n\u001b[0;32m---> 45\u001b[0m     Tx \u001b[39m=\u001b[39m src\u001b[39m.\u001b[39;49mcast(\u001b[39m*\u001b[39;49mxs)\n\u001b[1;32m     46\u001b[0m \u001b[39mexcept\u001b[39;00m: \n",
      "File \u001b[0;32m~/fp/fp/instances/shape.py:23\u001b[0m, in \u001b[0;36mBaseShape.cast\u001b[0;34m(cls, js)\u001b[0m\n\u001b[1;32m     21\u001b[0m \u001b[39m@classmethod\u001b[39m\n\u001b[1;32m     22\u001b[0m \u001b[39mdef\u001b[39;00m \u001b[39mcast\u001b[39m(\u001b[39mcls\u001b[39m, js):\n\u001b[0;32m---> 23\u001b[0m     \u001b[39mif\u001b[39;00m \u001b[39misinstance\u001b[39;49m(js, Tensor): \n\u001b[1;32m     24\u001b[0m         \u001b[39mreturn\u001b[39;00m \u001b[39mcls\u001b[39m\u001b[39m.\u001b[39mcast(js\u001b[39m.\u001b[39mdata)\n",
      "\u001b[0;31mRecursionError\u001b[0m: maximum recursion depth exceeded in __instancecheck__",
      "\nDuring handling of the above exception, another exception occurred:\n",
      "\u001b[0;31mTypeError\u001b[0m                                 Traceback (most recent call last)",
      "\u001b[1;32m/home/oli/topos-handbook/I_Sheaves_Functors.ipynb Cell 17\u001b[0m in \u001b[0;36m<cell line: 20>\u001b[0;34m()\u001b[0m\n\u001b[1;32m     <a href='vscode-notebook-cell:/home/oli/topos-handbook/I_Sheaves_Functors.ipynb#ch0000029?line=15'>16</a>\u001b[0m     \u001b[39mreturn\u001b[39;00m ([\u001b[39m2\u001b[39m\u001b[39m*\u001b[39mx[\u001b[39m0\u001b[39m], (x[\u001b[39m1\u001b[39m] \u001b[39m+\u001b[39m x[\u001b[39m0\u001b[39m]) \u001b[39m%\u001b[39m \u001b[39m6\u001b[39m] \u001b[39mif\u001b[39;00m x\u001b[39m.\u001b[39mdim \u001b[39m==\u001b[39m \u001b[39m1\u001b[39m \n\u001b[1;32m     <a href='vscode-notebook-cell:/home/oli/topos-handbook/I_Sheaves_Functors.ipynb#ch0000029?line=16'>17</a>\u001b[0m             \u001b[39melse\u001b[39;00m torch\u001b[39m.\u001b[39mstack(f(x))\u001b[39m.\u001b[39mT)\n\u001b[1;32m     <a href='vscode-notebook-cell:/home/oli/topos-handbook/I_Sheaves_Functors.ipynb#ch0000029?line=18'>19</a>\u001b[0m \u001b[39m#-- pullback\u001b[39;00m\n\u001b[0;32m---> <a href='vscode-notebook-cell:/home/oli/topos-handbook/I_Sheaves_Functors.ipynb#ch0000029?line=19'>20</a>\u001b[0m fT \u001b[39m=\u001b[39m Tens\u001b[39m.\u001b[39;49mcofmap(f)\n\u001b[1;32m     <a href='vscode-notebook-cell:/home/oli/topos-handbook/I_Sheaves_Functors.ipynb#ch0000029?line=20'>21</a>\u001b[0m \u001b[39mprint\u001b[39m(fT)\n\u001b[1;32m     <a href='vscode-notebook-cell:/home/oli/topos-handbook/I_Sheaves_Functors.ipynb#ch0000029?line=21'>22</a>\u001b[0m \u001b[39mprint\u001b[39m(fT \u001b[39m@\u001b[39m F\u001b[39m.\u001b[39mrange()) \n",
      "File \u001b[0;32m~/fp/fp/instances/tens.py:110\u001b[0m, in \u001b[0;36mTens.cofmap\u001b[0;34m(cls, f, batch)\u001b[0m\n\u001b[1;32m    108\u001b[0m g \u001b[39m=\u001b[39m f\u001b[39m.\u001b[39mtgt\u001b[39m.\u001b[39mindex \u001b[39m@\u001b[39m f \u001b[39m@\u001b[39m f\u001b[39m.\u001b[39msrc\u001b[39m.\u001b[39mcoords\n\u001b[1;32m    109\u001b[0m i \u001b[39m=\u001b[39m torch\u001b[39m.\u001b[39marange(f\u001b[39m.\u001b[39msrc\u001b[39m.\u001b[39msize)\n\u001b[0;32m--> 110\u001b[0m j \u001b[39m=\u001b[39m (g(i) \u001b[39mif\u001b[39;00m batch\n\u001b[1;32m    111\u001b[0m           \u001b[39melse\u001b[39;00m [g(ik) \u001b[39mfor\u001b[39;00m ik \u001b[39min\u001b[39;00m i])\n\u001b[1;32m    112\u001b[0m ij  \u001b[39m=\u001b[39m torch\u001b[39m.\u001b[39mstack([i\u001b[39m.\u001b[39mdata, j\u001b[39m.\u001b[39mdata])\n\u001b[1;32m    113\u001b[0m mat \u001b[39m=\u001b[39m Tensor\u001b[39m.\u001b[39msparse([g\u001b[39m.\u001b[39msrc\u001b[39m.\u001b[39msize, g\u001b[39m.\u001b[39mtgt\u001b[39m.\u001b[39msize], ij)\n",
      "File \u001b[0;32m~/fp/fp/meta/arrow.py:113\u001b[0m, in \u001b[0;36mArrowMeta.call_method.<locals>._call_\u001b[0;34m(arrow, *xs)\u001b[0m\n\u001b[1;32m    111\u001b[0m \u001b[39m#--- Unary and N-ary call\u001b[39;00m\n\u001b[1;32m    112\u001b[0m \u001b[39mif\u001b[39;00m \u001b[39mlen\u001b[39m(xs) \u001b[39m==\u001b[39m arrow\u001b[39m.\u001b[39marity:\n\u001b[0;32m--> 113\u001b[0m     y \u001b[39m=\u001b[39m f(Tx) \u001b[39mif\u001b[39;00m \u001b[39mlen\u001b[39m(xs) \u001b[39m==\u001b[39m \u001b[39m1\u001b[39m \u001b[39melse\u001b[39;00m f(\u001b[39m*\u001b[39mTx)\n\u001b[1;32m    114\u001b[0m     \u001b[39mreturn\u001b[39;00m \u001b[39mcls\u001b[39m\u001b[39m.\u001b[39mtarget(arrow, y)\n\u001b[1;32m    115\u001b[0m \u001b[39m#--- Curried section \u001b[39;00m\n",
      "File \u001b[0;32m~/fp/fp/meta/arrow.py:233\u001b[0m, in \u001b[0;36mArrow.compose.<locals>.<lambda>\u001b[0;34m(*xs)\u001b[0m\n\u001b[1;32m    230\u001b[0m \u001b[39m@classmethod\u001b[39m\n\u001b[1;32m    231\u001b[0m \u001b[39mdef\u001b[39;00m \u001b[39mcompose\u001b[39m(\u001b[39mcls\u001b[39m, f, g):\n\u001b[1;32m    232\u001b[0m     \u001b[39m\"\"\" Composition of functions \"\"\"\u001b[39;00m\n\u001b[0;32m--> 233\u001b[0m     \u001b[39mreturn\u001b[39;00m \u001b[39mcls\u001b[39m(g\u001b[39m.\u001b[39msrc, f\u001b[39m.\u001b[39mtgt)(\u001b[39mlambda\u001b[39;00m \u001b[39m*\u001b[39mxs: f(g(\u001b[39m*\u001b[39;49mxs)))\n",
      "File \u001b[0;32m~/fp/fp/meta/arrow.py:113\u001b[0m, in \u001b[0;36mArrowMeta.call_method.<locals>._call_\u001b[0;34m(arrow, *xs)\u001b[0m\n\u001b[1;32m    111\u001b[0m \u001b[39m#--- Unary and N-ary call\u001b[39;00m\n\u001b[1;32m    112\u001b[0m \u001b[39mif\u001b[39;00m \u001b[39mlen\u001b[39m(xs) \u001b[39m==\u001b[39m arrow\u001b[39m.\u001b[39marity:\n\u001b[0;32m--> 113\u001b[0m     y \u001b[39m=\u001b[39m f(Tx) \u001b[39mif\u001b[39;00m \u001b[39mlen\u001b[39m(xs) \u001b[39m==\u001b[39m \u001b[39m1\u001b[39m \u001b[39melse\u001b[39;00m f(\u001b[39m*\u001b[39mTx)\n\u001b[1;32m    114\u001b[0m     \u001b[39mreturn\u001b[39;00m \u001b[39mcls\u001b[39m\u001b[39m.\u001b[39mtarget(arrow, y)\n\u001b[1;32m    115\u001b[0m \u001b[39m#--- Curried section \u001b[39;00m\n",
      "File \u001b[0;32m~/fp/fp/meta/arrow.py:233\u001b[0m, in \u001b[0;36mArrow.compose.<locals>.<lambda>\u001b[0;34m(*xs)\u001b[0m\n\u001b[1;32m    230\u001b[0m \u001b[39m@classmethod\u001b[39m\n\u001b[1;32m    231\u001b[0m \u001b[39mdef\u001b[39;00m \u001b[39mcompose\u001b[39m(\u001b[39mcls\u001b[39m, f, g):\n\u001b[1;32m    232\u001b[0m     \u001b[39m\"\"\" Composition of functions \"\"\"\u001b[39;00m\n\u001b[0;32m--> 233\u001b[0m     \u001b[39mreturn\u001b[39;00m \u001b[39mcls\u001b[39m(g\u001b[39m.\u001b[39msrc, f\u001b[39m.\u001b[39mtgt)(\u001b[39mlambda\u001b[39;00m \u001b[39m*\u001b[39mxs: f(g(\u001b[39m*\u001b[39;49mxs)))\n",
      "File \u001b[0;32m~/fp/fp/meta/arrow.py:113\u001b[0m, in \u001b[0;36mArrowMeta.call_method.<locals>._call_\u001b[0;34m(arrow, *xs)\u001b[0m\n\u001b[1;32m    111\u001b[0m \u001b[39m#--- Unary and N-ary call\u001b[39;00m\n\u001b[1;32m    112\u001b[0m \u001b[39mif\u001b[39;00m \u001b[39mlen\u001b[39m(xs) \u001b[39m==\u001b[39m arrow\u001b[39m.\u001b[39marity:\n\u001b[0;32m--> 113\u001b[0m     y \u001b[39m=\u001b[39m f(Tx) \u001b[39mif\u001b[39;00m \u001b[39mlen\u001b[39m(xs) \u001b[39m==\u001b[39m \u001b[39m1\u001b[39m \u001b[39melse\u001b[39;00m f(\u001b[39m*\u001b[39mTx)\n\u001b[1;32m    114\u001b[0m     \u001b[39mreturn\u001b[39;00m \u001b[39mcls\u001b[39m\u001b[39m.\u001b[39mtarget(arrow, y)\n\u001b[1;32m    115\u001b[0m \u001b[39m#--- Curried section \u001b[39;00m\n",
      "\u001b[1;32m/home/oli/topos-handbook/I_Sheaves_Functors.ipynb Cell 17\u001b[0m in \u001b[0;36mf\u001b[0;34m(x)\u001b[0m\n\u001b[1;32m     <a href='vscode-notebook-cell:/home/oli/topos-handbook/I_Sheaves_Functors.ipynb#ch0000029?line=13'>14</a>\u001b[0m \u001b[39m@Arrow\u001b[39m(E\u001b[39m.\u001b[39mdomain, F\u001b[39m.\u001b[39mdomain)\n\u001b[1;32m     <a href='vscode-notebook-cell:/home/oli/topos-handbook/I_Sheaves_Functors.ipynb#ch0000029?line=14'>15</a>\u001b[0m \u001b[39mdef\u001b[39;00m \u001b[39mf\u001b[39m(x):\n\u001b[1;32m     <a href='vscode-notebook-cell:/home/oli/topos-handbook/I_Sheaves_Functors.ipynb#ch0000029?line=15'>16</a>\u001b[0m     \u001b[39mreturn\u001b[39;00m ([\u001b[39m2\u001b[39m\u001b[39m*\u001b[39mx[\u001b[39m0\u001b[39m], (x[\u001b[39m1\u001b[39m] \u001b[39m+\u001b[39m x[\u001b[39m0\u001b[39m]) \u001b[39m%\u001b[39m \u001b[39m6\u001b[39m] \u001b[39mif\u001b[39;00m x\u001b[39m.\u001b[39mdim \u001b[39m==\u001b[39m \u001b[39m1\u001b[39m \n\u001b[0;32m---> <a href='vscode-notebook-cell:/home/oli/topos-handbook/I_Sheaves_Functors.ipynb#ch0000029?line=16'>17</a>\u001b[0m             \u001b[39melse\u001b[39;00m torch\u001b[39m.\u001b[39mstack(f(x))\u001b[39m.\u001b[39mT)\n",
      "File \u001b[0;32m~/fp/fp/meta/arrow.py:113\u001b[0m, in \u001b[0;36mArrowMeta.call_method.<locals>._call_\u001b[0;34m(arrow, *xs)\u001b[0m\n\u001b[1;32m    111\u001b[0m \u001b[39m#--- Unary and N-ary call\u001b[39;00m\n\u001b[1;32m    112\u001b[0m \u001b[39mif\u001b[39;00m \u001b[39mlen\u001b[39m(xs) \u001b[39m==\u001b[39m arrow\u001b[39m.\u001b[39marity:\n\u001b[0;32m--> 113\u001b[0m     y \u001b[39m=\u001b[39m f(Tx) \u001b[39mif\u001b[39;00m \u001b[39mlen\u001b[39m(xs) \u001b[39m==\u001b[39m \u001b[39m1\u001b[39m \u001b[39melse\u001b[39;00m f(\u001b[39m*\u001b[39mTx)\n\u001b[1;32m    114\u001b[0m     \u001b[39mreturn\u001b[39;00m \u001b[39mcls\u001b[39m\u001b[39m.\u001b[39mtarget(arrow, y)\n\u001b[1;32m    115\u001b[0m \u001b[39m#--- Curried section \u001b[39;00m\n",
      "\u001b[1;32m/home/oli/topos-handbook/I_Sheaves_Functors.ipynb Cell 17\u001b[0m in \u001b[0;36mf\u001b[0;34m(x)\u001b[0m\n\u001b[1;32m     <a href='vscode-notebook-cell:/home/oli/topos-handbook/I_Sheaves_Functors.ipynb#ch0000029?line=13'>14</a>\u001b[0m \u001b[39m@Arrow\u001b[39m(E\u001b[39m.\u001b[39mdomain, F\u001b[39m.\u001b[39mdomain)\n\u001b[1;32m     <a href='vscode-notebook-cell:/home/oli/topos-handbook/I_Sheaves_Functors.ipynb#ch0000029?line=14'>15</a>\u001b[0m \u001b[39mdef\u001b[39;00m \u001b[39mf\u001b[39m(x):\n\u001b[1;32m     <a href='vscode-notebook-cell:/home/oli/topos-handbook/I_Sheaves_Functors.ipynb#ch0000029?line=15'>16</a>\u001b[0m     \u001b[39mreturn\u001b[39;00m ([\u001b[39m2\u001b[39m\u001b[39m*\u001b[39mx[\u001b[39m0\u001b[39m], (x[\u001b[39m1\u001b[39m] \u001b[39m+\u001b[39m x[\u001b[39m0\u001b[39m]) \u001b[39m%\u001b[39m \u001b[39m6\u001b[39m] \u001b[39mif\u001b[39;00m x\u001b[39m.\u001b[39mdim \u001b[39m==\u001b[39m \u001b[39m1\u001b[39m \n\u001b[0;32m---> <a href='vscode-notebook-cell:/home/oli/topos-handbook/I_Sheaves_Functors.ipynb#ch0000029?line=16'>17</a>\u001b[0m             \u001b[39melse\u001b[39;00m torch\u001b[39m.\u001b[39mstack(f(x))\u001b[39m.\u001b[39mT)\n",
      "    \u001b[0;31m[... skipping similar frames: ArrowMeta.call_method.<locals>._call_ at line 113 (984 times), f at line 17 (984 times)]\u001b[0m\n",
      "File \u001b[0;32m~/fp/fp/meta/arrow.py:113\u001b[0m, in \u001b[0;36mArrowMeta.call_method.<locals>._call_\u001b[0;34m(arrow, *xs)\u001b[0m\n\u001b[1;32m    111\u001b[0m \u001b[39m#--- Unary and N-ary call\u001b[39;00m\n\u001b[1;32m    112\u001b[0m \u001b[39mif\u001b[39;00m \u001b[39mlen\u001b[39m(xs) \u001b[39m==\u001b[39m arrow\u001b[39m.\u001b[39marity:\n\u001b[0;32m--> 113\u001b[0m     y \u001b[39m=\u001b[39m f(Tx) \u001b[39mif\u001b[39;00m \u001b[39mlen\u001b[39m(xs) \u001b[39m==\u001b[39m \u001b[39m1\u001b[39m \u001b[39melse\u001b[39;00m f(\u001b[39m*\u001b[39mTx)\n\u001b[1;32m    114\u001b[0m     \u001b[39mreturn\u001b[39;00m \u001b[39mcls\u001b[39m\u001b[39m.\u001b[39mtarget(arrow, y)\n\u001b[1;32m    115\u001b[0m \u001b[39m#--- Curried section \u001b[39;00m\n",
      "\u001b[1;32m/home/oli/topos-handbook/I_Sheaves_Functors.ipynb Cell 17\u001b[0m in \u001b[0;36mf\u001b[0;34m(x)\u001b[0m\n\u001b[1;32m     <a href='vscode-notebook-cell:/home/oli/topos-handbook/I_Sheaves_Functors.ipynb#ch0000029?line=13'>14</a>\u001b[0m \u001b[39m@Arrow\u001b[39m(E\u001b[39m.\u001b[39mdomain, F\u001b[39m.\u001b[39mdomain)\n\u001b[1;32m     <a href='vscode-notebook-cell:/home/oli/topos-handbook/I_Sheaves_Functors.ipynb#ch0000029?line=14'>15</a>\u001b[0m \u001b[39mdef\u001b[39;00m \u001b[39mf\u001b[39m(x):\n\u001b[1;32m     <a href='vscode-notebook-cell:/home/oli/topos-handbook/I_Sheaves_Functors.ipynb#ch0000029?line=15'>16</a>\u001b[0m     \u001b[39mreturn\u001b[39;00m ([\u001b[39m2\u001b[39m\u001b[39m*\u001b[39mx[\u001b[39m0\u001b[39m], (x[\u001b[39m1\u001b[39m] \u001b[39m+\u001b[39m x[\u001b[39m0\u001b[39m]) \u001b[39m%\u001b[39m \u001b[39m6\u001b[39m] \u001b[39mif\u001b[39;00m x\u001b[39m.\u001b[39mdim \u001b[39m==\u001b[39m \u001b[39m1\u001b[39m \n\u001b[0;32m---> <a href='vscode-notebook-cell:/home/oli/topos-handbook/I_Sheaves_Functors.ipynb#ch0000029?line=16'>17</a>\u001b[0m             \u001b[39melse\u001b[39;00m torch\u001b[39m.\u001b[39mstack(f(x))\u001b[39m.\u001b[39mT)\n",
      "File \u001b[0;32m~/fp/fp/meta/arrow.py:110\u001b[0m, in \u001b[0;36mArrowMeta.call_method.<locals>._call_\u001b[0;34m(arrow, *xs)\u001b[0m\n\u001b[1;32m    108\u001b[0m f \u001b[39m=\u001b[39m arrow\u001b[39m.\u001b[39mcall\n\u001b[1;32m    109\u001b[0m \u001b[39m#--- Input type check\u001b[39;00m\n\u001b[0;32m--> 110\u001b[0m src, Tx \u001b[39m=\u001b[39m \u001b[39mcls\u001b[39;49m\u001b[39m.\u001b[39;49msource(arrow, xs) \n\u001b[1;32m    111\u001b[0m \u001b[39m#--- Unary and N-ary call\u001b[39;00m\n\u001b[1;32m    112\u001b[0m \u001b[39mif\u001b[39;00m \u001b[39mlen\u001b[39m(xs) \u001b[39m==\u001b[39m arrow\u001b[39m.\u001b[39marity:\n",
      "File \u001b[0;32m~/fp/fp/meta/arrow.py:48\u001b[0m, in \u001b[0;36mArrowMeta.source\u001b[0;34m(Arr, xs)\u001b[0m\n\u001b[1;32m     46\u001b[0m \u001b[39mexcept\u001b[39;00m: \n\u001b[1;32m     47\u001b[0m     \u001b[39minput\u001b[39m \u001b[39m=\u001b[39m \u001b[39m\"\u001b[39m\u001b[39m(\u001b[39m\u001b[39m\"\u001b[39m \u001b[39m+\u001b[39m \u001b[39m\"\u001b[39m\u001b[39m, \u001b[39m\u001b[39m\"\u001b[39m\u001b[39m.\u001b[39mjoin([\u001b[39mstr\u001b[39m(\u001b[39mtype\u001b[39m(x)) \u001b[39mfor\u001b[39;00m x \u001b[39min\u001b[39;00m xs]) \u001b[39m+\u001b[39m \u001b[39m\"\u001b[39m\u001b[39m)\u001b[39m\u001b[39m\"\u001b[39m\n\u001b[0;32m---> 48\u001b[0m     \u001b[39mraise\u001b[39;00m \u001b[39mTypeError\u001b[39;00m(\n\u001b[1;32m     49\u001b[0m         \u001b[39mf\u001b[39m\u001b[39m\"\u001b[39m\u001b[39mInput of type \u001b[39m\u001b[39m{\u001b[39;00m\u001b[39minput\u001b[39m\u001b[39m}\u001b[39;00m\u001b[39m \u001b[39m\u001b[39m\"\u001b[39m \u001b[39m+\u001b[39m \\\n\u001b[1;32m     50\u001b[0m         \u001b[39mf\u001b[39m\u001b[39m\"\u001b[39m\u001b[39mnot castable to \u001b[39m\u001b[39m{\u001b[39;00mArr\u001b[39m.\u001b[39msrc\u001b[39m}\u001b[39;00m\u001b[39m\"\u001b[39m)\n\u001b[1;32m     51\u001b[0m \u001b[39mreturn\u001b[39;00m src, Tx\n",
      "\u001b[0;31mTypeError\u001b[0m: Input of type (Torus 3x3) not castable to Torus 3x3"
     ]
    }
   ],
   "source": [
    "\"\"\" Tens functor \"\"\"\n",
    "\n",
    "from fp import Tens\n",
    "import torch\n",
    "\n",
    "E = Tens([3, 3])\n",
    "F = Tens([6, 6])\n",
    "\n",
    "assert isinstance(E, type)\n",
    "\n",
    "x = E.ones()\n",
    "assert isinstance(x, E)\n",
    "\n",
    "@Arrow(E.domain, F.domain)\n",
    "def f(x):\n",
    "    return ([2*x[0], (x[1] + x[0]) % 6] if x.dim == 1 \n",
    "            else torch.stack(f(x.T)).T)\n",
    "\n",
    "#-- pullback\n",
    "fT = Tens.cofmap(f)\n",
    "print(fT)\n",
    "print(fT @ F.range()) \n",
    "\n",
    "#--- dual map: pushforward\n",
    "Tf = fT.t()\n",
    "print(Tf)\n",
    "print(Tf @ E.ones())"
   ]
  },
  {
   "cell_type": "code",
   "execution_count": null,
   "id": "a2dce3d5",
   "metadata": {},
   "outputs": [],
   "source": []
  }
 ],
 "metadata": {
  "kernelspec": {
   "display_name": "Python 3.9.9 64-bit ('3.9.9')",
   "language": "python",
   "name": "python3"
  },
  "language_info": {
   "codemirror_mode": {
    "name": "ipython",
    "version": 3
   },
   "file_extension": ".py",
   "mimetype": "text/x-python",
   "name": "python",
   "nbconvert_exporter": "python",
   "pygments_lexer": "ipython3",
   "version": "3.9.9"
  },
  "vscode": {
   "interpreter": {
    "hash": "f0bdf5977b686c3d12f3112e6552d93371cb0590556d2a9649e9eec04590b6d6"
   }
  }
 },
 "nbformat": 4,
 "nbformat_minor": 5
}
